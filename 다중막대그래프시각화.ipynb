{
 "cells": [
  {
   "cell_type": "code",
   "execution_count": 1,
   "id": "99ce7b3a-771e-46b1-90fc-d25de06eb79d",
   "metadata": {
    "tags": []
   },
   "outputs": [],
   "source": [
    "import pandas as pd\n",
    "import plotly.express as px"
   ]
  },
  {
   "cell_type": "code",
   "execution_count": 41,
   "id": "b2696401-907b-4048-af33-741df2577f6c",
   "metadata": {
    "tags": []
   },
   "outputs": [
    {
     "data": {
      "text/html": [
       "<div>\n",
       "<style scoped>\n",
       "    .dataframe tbody tr th:only-of-type {\n",
       "        vertical-align: middle;\n",
       "    }\n",
       "\n",
       "    .dataframe tbody tr th {\n",
       "        vertical-align: top;\n",
       "    }\n",
       "\n",
       "    .dataframe thead th {\n",
       "        text-align: right;\n",
       "    }\n",
       "</style>\n",
       "<table border=\"1\" class=\"dataframe\">\n",
       "  <thead>\n",
       "    <tr style=\"text-align: right;\">\n",
       "      <th></th>\n",
       "      <th>자치구명</th>\n",
       "      <th>물건금액(만원)</th>\n",
       "    </tr>\n",
       "  </thead>\n",
       "  <tbody>\n",
       "    <tr>\n",
       "      <th>0</th>\n",
       "      <td>강남구</td>\n",
       "      <td>1563</td>\n",
       "    </tr>\n",
       "    <tr>\n",
       "      <th>1</th>\n",
       "      <td>강동구</td>\n",
       "      <td>1522</td>\n",
       "    </tr>\n",
       "    <tr>\n",
       "      <th>2</th>\n",
       "      <td>강북구</td>\n",
       "      <td>951</td>\n",
       "    </tr>\n",
       "    <tr>\n",
       "      <th>3</th>\n",
       "      <td>강서구</td>\n",
       "      <td>1778</td>\n",
       "    </tr>\n",
       "    <tr>\n",
       "      <th>4</th>\n",
       "      <td>관악구</td>\n",
       "      <td>1052</td>\n",
       "    </tr>\n",
       "    <tr>\n",
       "      <th>5</th>\n",
       "      <td>광진구</td>\n",
       "      <td>748</td>\n",
       "    </tr>\n",
       "    <tr>\n",
       "      <th>6</th>\n",
       "      <td>구로구</td>\n",
       "      <td>1090</td>\n",
       "    </tr>\n",
       "    <tr>\n",
       "      <th>7</th>\n",
       "      <td>금천구</td>\n",
       "      <td>679</td>\n",
       "    </tr>\n",
       "    <tr>\n",
       "      <th>8</th>\n",
       "      <td>노원구</td>\n",
       "      <td>1336</td>\n",
       "    </tr>\n",
       "    <tr>\n",
       "      <th>9</th>\n",
       "      <td>도봉구</td>\n",
       "      <td>857</td>\n",
       "    </tr>\n",
       "    <tr>\n",
       "      <th>10</th>\n",
       "      <td>동대문구</td>\n",
       "      <td>1062</td>\n",
       "    </tr>\n",
       "    <tr>\n",
       "      <th>11</th>\n",
       "      <td>동작구</td>\n",
       "      <td>1118</td>\n",
       "    </tr>\n",
       "    <tr>\n",
       "      <th>12</th>\n",
       "      <td>마포구</td>\n",
       "      <td>1311</td>\n",
       "    </tr>\n",
       "    <tr>\n",
       "      <th>13</th>\n",
       "      <td>서대문구</td>\n",
       "      <td>969</td>\n",
       "    </tr>\n",
       "    <tr>\n",
       "      <th>14</th>\n",
       "      <td>서초구</td>\n",
       "      <td>1242</td>\n",
       "    </tr>\n",
       "    <tr>\n",
       "      <th>15</th>\n",
       "      <td>성동구</td>\n",
       "      <td>1043</td>\n",
       "    </tr>\n",
       "    <tr>\n",
       "      <th>16</th>\n",
       "      <td>성북구</td>\n",
       "      <td>1211</td>\n",
       "    </tr>\n",
       "    <tr>\n",
       "      <th>17</th>\n",
       "      <td>송파구</td>\n",
       "      <td>1741</td>\n",
       "    </tr>\n",
       "    <tr>\n",
       "      <th>18</th>\n",
       "      <td>양천구</td>\n",
       "      <td>1189</td>\n",
       "    </tr>\n",
       "    <tr>\n",
       "      <th>19</th>\n",
       "      <td>영등포구</td>\n",
       "      <td>1387</td>\n",
       "    </tr>\n",
       "    <tr>\n",
       "      <th>20</th>\n",
       "      <td>용산구</td>\n",
       "      <td>599</td>\n",
       "    </tr>\n",
       "    <tr>\n",
       "      <th>21</th>\n",
       "      <td>은평구</td>\n",
       "      <td>1406</td>\n",
       "    </tr>\n",
       "    <tr>\n",
       "      <th>22</th>\n",
       "      <td>종로구</td>\n",
       "      <td>550</td>\n",
       "    </tr>\n",
       "    <tr>\n",
       "      <th>23</th>\n",
       "      <td>중구</td>\n",
       "      <td>420</td>\n",
       "    </tr>\n",
       "    <tr>\n",
       "      <th>24</th>\n",
       "      <td>중랑구</td>\n",
       "      <td>829</td>\n",
       "    </tr>\n",
       "  </tbody>\n",
       "</table>\n",
       "</div>"
      ],
      "text/plain": [
       "    자치구명  물건금액(만원)\n",
       "0    강남구      1563\n",
       "1    강동구      1522\n",
       "2    강북구       951\n",
       "3    강서구      1778\n",
       "4    관악구      1052\n",
       "5    광진구       748\n",
       "6    구로구      1090\n",
       "7    금천구       679\n",
       "8    노원구      1336\n",
       "9    도봉구       857\n",
       "10  동대문구      1062\n",
       "11   동작구      1118\n",
       "12   마포구      1311\n",
       "13  서대문구       969\n",
       "14   서초구      1242\n",
       "15   성동구      1043\n",
       "16   성북구      1211\n",
       "17   송파구      1741\n",
       "18   양천구      1189\n",
       "19  영등포구      1387\n",
       "20   용산구       599\n",
       "21   은평구      1406\n",
       "22   종로구       550\n",
       "23    중구       420\n",
       "24   중랑구       829"
      ]
     },
     "execution_count": 41,
     "metadata": {},
     "output_type": "execute_result"
    }
   ],
   "source": [
    "df_서울_발표전.groupby('자치구명')[\"물건금액(만원)\"].count().reset_index()"
   ]
  },
  {
   "cell_type": "code",
   "execution_count": 42,
   "id": "92a61836-4c6b-476f-9964-c887cbc9a8ed",
   "metadata": {
    "tags": []
   },
   "outputs": [
    {
     "data": {
      "text/html": [
       "<div>\n",
       "<style scoped>\n",
       "    .dataframe tbody tr th:only-of-type {\n",
       "        vertical-align: middle;\n",
       "    }\n",
       "\n",
       "    .dataframe tbody tr th {\n",
       "        vertical-align: top;\n",
       "    }\n",
       "\n",
       "    .dataframe thead th {\n",
       "        text-align: right;\n",
       "    }\n",
       "</style>\n",
       "<table border=\"1\" class=\"dataframe\">\n",
       "  <thead>\n",
       "    <tr style=\"text-align: right;\">\n",
       "      <th></th>\n",
       "      <th>자치구명</th>\n",
       "      <th>발표</th>\n",
       "    </tr>\n",
       "  </thead>\n",
       "  <tbody>\n",
       "    <tr>\n",
       "      <th>0</th>\n",
       "      <td>강남구</td>\n",
       "      <td>1563</td>\n",
       "    </tr>\n",
       "    <tr>\n",
       "      <th>1</th>\n",
       "      <td>강동구</td>\n",
       "      <td>1522</td>\n",
       "    </tr>\n",
       "    <tr>\n",
       "      <th>2</th>\n",
       "      <td>강북구</td>\n",
       "      <td>951</td>\n",
       "    </tr>\n",
       "    <tr>\n",
       "      <th>3</th>\n",
       "      <td>강서구</td>\n",
       "      <td>1778</td>\n",
       "    </tr>\n",
       "    <tr>\n",
       "      <th>4</th>\n",
       "      <td>관악구</td>\n",
       "      <td>1052</td>\n",
       "    </tr>\n",
       "    <tr>\n",
       "      <th>5</th>\n",
       "      <td>광진구</td>\n",
       "      <td>748</td>\n",
       "    </tr>\n",
       "    <tr>\n",
       "      <th>6</th>\n",
       "      <td>구로구</td>\n",
       "      <td>1090</td>\n",
       "    </tr>\n",
       "    <tr>\n",
       "      <th>7</th>\n",
       "      <td>금천구</td>\n",
       "      <td>679</td>\n",
       "    </tr>\n",
       "    <tr>\n",
       "      <th>8</th>\n",
       "      <td>노원구</td>\n",
       "      <td>1336</td>\n",
       "    </tr>\n",
       "    <tr>\n",
       "      <th>9</th>\n",
       "      <td>도봉구</td>\n",
       "      <td>857</td>\n",
       "    </tr>\n",
       "    <tr>\n",
       "      <th>10</th>\n",
       "      <td>동대문구</td>\n",
       "      <td>1062</td>\n",
       "    </tr>\n",
       "    <tr>\n",
       "      <th>11</th>\n",
       "      <td>동작구</td>\n",
       "      <td>1118</td>\n",
       "    </tr>\n",
       "    <tr>\n",
       "      <th>12</th>\n",
       "      <td>마포구</td>\n",
       "      <td>1311</td>\n",
       "    </tr>\n",
       "    <tr>\n",
       "      <th>13</th>\n",
       "      <td>서대문구</td>\n",
       "      <td>969</td>\n",
       "    </tr>\n",
       "    <tr>\n",
       "      <th>14</th>\n",
       "      <td>서초구</td>\n",
       "      <td>1242</td>\n",
       "    </tr>\n",
       "    <tr>\n",
       "      <th>15</th>\n",
       "      <td>성동구</td>\n",
       "      <td>1043</td>\n",
       "    </tr>\n",
       "    <tr>\n",
       "      <th>16</th>\n",
       "      <td>성북구</td>\n",
       "      <td>1211</td>\n",
       "    </tr>\n",
       "    <tr>\n",
       "      <th>17</th>\n",
       "      <td>송파구</td>\n",
       "      <td>1741</td>\n",
       "    </tr>\n",
       "    <tr>\n",
       "      <th>18</th>\n",
       "      <td>양천구</td>\n",
       "      <td>1189</td>\n",
       "    </tr>\n",
       "    <tr>\n",
       "      <th>19</th>\n",
       "      <td>영등포구</td>\n",
       "      <td>1387</td>\n",
       "    </tr>\n",
       "    <tr>\n",
       "      <th>20</th>\n",
       "      <td>용산구</td>\n",
       "      <td>599</td>\n",
       "    </tr>\n",
       "    <tr>\n",
       "      <th>21</th>\n",
       "      <td>은평구</td>\n",
       "      <td>1406</td>\n",
       "    </tr>\n",
       "    <tr>\n",
       "      <th>22</th>\n",
       "      <td>종로구</td>\n",
       "      <td>550</td>\n",
       "    </tr>\n",
       "    <tr>\n",
       "      <th>23</th>\n",
       "      <td>중구</td>\n",
       "      <td>420</td>\n",
       "    </tr>\n",
       "    <tr>\n",
       "      <th>24</th>\n",
       "      <td>중랑구</td>\n",
       "      <td>829</td>\n",
       "    </tr>\n",
       "  </tbody>\n",
       "</table>\n",
       "</div>"
      ],
      "text/plain": [
       "    자치구명    발표\n",
       "0    강남구  1563\n",
       "1    강동구  1522\n",
       "2    강북구   951\n",
       "3    강서구  1778\n",
       "4    관악구  1052\n",
       "5    광진구   748\n",
       "6    구로구  1090\n",
       "7    금천구   679\n",
       "8    노원구  1336\n",
       "9    도봉구   857\n",
       "10  동대문구  1062\n",
       "11   동작구  1118\n",
       "12   마포구  1311\n",
       "13  서대문구   969\n",
       "14   서초구  1242\n",
       "15   성동구  1043\n",
       "16   성북구  1211\n",
       "17   송파구  1741\n",
       "18   양천구  1189\n",
       "19  영등포구  1387\n",
       "20   용산구   599\n",
       "21   은평구  1406\n",
       "22   종로구   550\n",
       "23    중구   420\n",
       "24   중랑구   829"
      ]
     },
     "execution_count": 42,
     "metadata": {},
     "output_type": "execute_result"
    }
   ],
   "source": [
    "df_서울_발표전.groupby('자치구명')[\"발표\"].count().reset_index()"
   ]
  },
  {
   "cell_type": "code",
   "execution_count": 21,
   "id": "f8c7e2c8-c80b-47c3-a232-b01f2dbee673",
   "metadata": {
    "tags": []
   },
   "outputs": [
    {
     "data": {
      "application/vnd.plotly.v1+json": {
       "config": {
        "plotlyServerURL": "https://plot.ly"
       },
       "data": [
        {
         "alignmentgroup": "True",
         "hovertemplate": "발표=발표전<br>구=%{x}<br>거래량(건)=%{y}<extra></extra>",
         "legendgroup": "발표전",
         "marker": {
          "color": "#636efa",
          "pattern": {
           "shape": ""
          }
         },
         "name": "발표전",
         "offsetgroup": "발표전",
         "orientation": "v",
         "showlegend": true,
         "textposition": "auto",
         "type": "bar",
         "x": [
          "강남구",
          "강동구",
          "강북구",
          "강서구",
          "관악구",
          "광진구",
          "구로구",
          "금천구",
          "노원구",
          "도봉구",
          "동대문구",
          "동작구",
          "마포구",
          "서대문구",
          "서초구",
          "성동구",
          "성북구",
          "송파구",
          "양천구",
          "영등포구",
          "용산구",
          "은평구",
          "종로구",
          "중구",
          "중랑구"
         ],
         "xaxis": "x",
         "y": [
          760,
          947,
          633,
          1625,
          720,
          654,
          878,
          589,
          736,
          545,
          703,
          738,
          848,
          507,
          593,
          662,
          763,
          1047,
          785,
          757,
          346,
          893,
          330,
          268,
          629
         ],
         "yaxis": "y"
        },
        {
         "alignmentgroup": "True",
         "hovertemplate": "발표=발표후<br>구=%{x}<br>거래량(건)=%{y}<extra></extra>",
         "legendgroup": "발표후",
         "marker": {
          "color": "#EF553B",
          "pattern": {
           "shape": ""
          }
         },
         "name": "발표후",
         "offsetgroup": "발표후",
         "orientation": "v",
         "showlegend": true,
         "textposition": "auto",
         "type": "bar",
         "x": [
          "강남구",
          "강동구",
          "강북구",
          "강서구",
          "관악구",
          "광진구",
          "구로구",
          "금천구",
          "노원구",
          "도봉구",
          "동대문구",
          "동작구",
          "마포구",
          "서대문구",
          "서초구",
          "성동구",
          "성북구",
          "송파구",
          "양천구",
          "영등포구",
          "용산구",
          "은평구",
          "종로구",
          "중구",
          "중랑구"
         ],
         "xaxis": "x",
         "y": [
          1563,
          1522,
          951,
          1778,
          1052,
          748,
          1090,
          679,
          1336,
          857,
          1062,
          1118,
          1311,
          969,
          1242,
          1043,
          1211,
          1741,
          1189,
          1387,
          599,
          1406,
          550,
          420,
          829
         ],
         "yaxis": "y"
        }
       ],
       "layout": {
        "annotations": [
         {
          "arrowcolor": "red",
          "arrowhead": 4,
          "ax": 0,
          "ay": -40,
          "showarrow": true,
          "text": "105.66%",
          "x": "강남구",
          "y": 1563
         },
         {
          "arrowcolor": "red",
          "arrowhead": 4,
          "ax": 0,
          "ay": -40,
          "showarrow": true,
          "text": "60.72%",
          "x": "강동구",
          "y": 1522
         },
         {
          "arrowcolor": "red",
          "arrowhead": 4,
          "ax": 0,
          "ay": -40,
          "showarrow": true,
          "text": "50.24%",
          "x": "강북구",
          "y": 951
         },
         {
          "arrowcolor": "red",
          "arrowhead": 4,
          "ax": 0,
          "ay": -40,
          "showarrow": true,
          "text": "9.42%",
          "x": "강서구",
          "y": 1778
         },
         {
          "arrowcolor": "red",
          "arrowhead": 4,
          "ax": 0,
          "ay": -40,
          "showarrow": true,
          "text": "46.11%",
          "x": "관악구",
          "y": 1052
         },
         {
          "arrowcolor": "red",
          "arrowhead": 4,
          "ax": 0,
          "ay": -40,
          "showarrow": true,
          "text": "14.37%",
          "x": "광진구",
          "y": 748
         },
         {
          "arrowcolor": "red",
          "arrowhead": 4,
          "ax": 0,
          "ay": -40,
          "showarrow": true,
          "text": "24.15%",
          "x": "구로구",
          "y": 1090
         },
         {
          "arrowcolor": "red",
          "arrowhead": 4,
          "ax": 0,
          "ay": -40,
          "showarrow": true,
          "text": "15.28%",
          "x": "금천구",
          "y": 679
         },
         {
          "arrowcolor": "red",
          "arrowhead": 4,
          "ax": 0,
          "ay": -40,
          "showarrow": true,
          "text": "81.52%",
          "x": "노원구",
          "y": 1336
         },
         {
          "arrowcolor": "red",
          "arrowhead": 4,
          "ax": 0,
          "ay": -40,
          "showarrow": true,
          "text": "57.25%",
          "x": "도봉구",
          "y": 857
         },
         {
          "arrowcolor": "red",
          "arrowhead": 4,
          "ax": 0,
          "ay": -40,
          "showarrow": true,
          "text": "51.07%",
          "x": "동대문구",
          "y": 1062
         },
         {
          "arrowcolor": "red",
          "arrowhead": 4,
          "ax": 0,
          "ay": -40,
          "showarrow": true,
          "text": "51.49%",
          "x": "동작구",
          "y": 1118
         },
         {
          "arrowcolor": "red",
          "arrowhead": 4,
          "ax": 0,
          "ay": -40,
          "showarrow": true,
          "text": "54.60%",
          "x": "마포구",
          "y": 1311
         },
         {
          "arrowcolor": "red",
          "arrowhead": 4,
          "ax": 0,
          "ay": -40,
          "showarrow": true,
          "text": "91.12%",
          "x": "서대문구",
          "y": 969
         },
         {
          "arrowcolor": "red",
          "arrowhead": 4,
          "ax": 0,
          "ay": -40,
          "showarrow": true,
          "text": "109.44%",
          "x": "서초구",
          "y": 1242
         },
         {
          "arrowcolor": "red",
          "arrowhead": 4,
          "ax": 0,
          "ay": -40,
          "showarrow": true,
          "text": "57.55%",
          "x": "성동구",
          "y": 1043
         },
         {
          "arrowcolor": "red",
          "arrowhead": 4,
          "ax": 0,
          "ay": -40,
          "showarrow": true,
          "text": "58.72%",
          "x": "성북구",
          "y": 1211
         },
         {
          "arrowcolor": "red",
          "arrowhead": 4,
          "ax": 0,
          "ay": -40,
          "showarrow": true,
          "text": "66.28%",
          "x": "송파구",
          "y": 1741
         },
         {
          "arrowcolor": "red",
          "arrowhead": 4,
          "ax": 0,
          "ay": -40,
          "showarrow": true,
          "text": "51.46%",
          "x": "양천구",
          "y": 1189
         },
         {
          "arrowcolor": "red",
          "arrowhead": 4,
          "ax": 0,
          "ay": -40,
          "showarrow": true,
          "text": "83.22%",
          "x": "영등포구",
          "y": 1387
         },
         {
          "arrowcolor": "red",
          "arrowhead": 4,
          "ax": 0,
          "ay": -40,
          "showarrow": true,
          "text": "73.12%",
          "x": "용산구",
          "y": 599
         },
         {
          "arrowcolor": "red",
          "arrowhead": 4,
          "ax": 0,
          "ay": -40,
          "showarrow": true,
          "text": "57.45%",
          "x": "은평구",
          "y": 1406
         },
         {
          "arrowcolor": "red",
          "arrowhead": 4,
          "ax": 0,
          "ay": -40,
          "showarrow": true,
          "text": "66.67%",
          "x": "종로구",
          "y": 550
         },
         {
          "arrowcolor": "red",
          "arrowhead": 4,
          "ax": 0,
          "ay": -40,
          "showarrow": true,
          "text": "56.72%",
          "x": "중구",
          "y": 420
         },
         {
          "arrowcolor": "red",
          "arrowhead": 4,
          "ax": 0,
          "ay": -40,
          "showarrow": true,
          "text": "31.80%",
          "x": "중랑구",
          "y": 829
         }
        ],
        "barmode": "group",
        "height": 500,
        "legend": {
         "title": {
          "text": "발표"
         },
         "tracegroupgap": 0
        },
        "template": {
         "data": {
          "bar": [
           {
            "error_x": {
             "color": "#f2f5fa"
            },
            "error_y": {
             "color": "#f2f5fa"
            },
            "marker": {
             "line": {
              "color": "rgb(17,17,17)",
              "width": 0.5
             },
             "pattern": {
              "fillmode": "overlay",
              "size": 10,
              "solidity": 0.2
             }
            },
            "type": "bar"
           }
          ],
          "barpolar": [
           {
            "marker": {
             "line": {
              "color": "rgb(17,17,17)",
              "width": 0.5
             },
             "pattern": {
              "fillmode": "overlay",
              "size": 10,
              "solidity": 0.2
             }
            },
            "type": "barpolar"
           }
          ],
          "carpet": [
           {
            "aaxis": {
             "endlinecolor": "#A2B1C6",
             "gridcolor": "#506784",
             "linecolor": "#506784",
             "minorgridcolor": "#506784",
             "startlinecolor": "#A2B1C6"
            },
            "baxis": {
             "endlinecolor": "#A2B1C6",
             "gridcolor": "#506784",
             "linecolor": "#506784",
             "minorgridcolor": "#506784",
             "startlinecolor": "#A2B1C6"
            },
            "type": "carpet"
           }
          ],
          "choropleth": [
           {
            "colorbar": {
             "outlinewidth": 0,
             "ticks": ""
            },
            "type": "choropleth"
           }
          ],
          "contour": [
           {
            "colorbar": {
             "outlinewidth": 0,
             "ticks": ""
            },
            "colorscale": [
             [
              0,
              "#0d0887"
             ],
             [
              0.1111111111111111,
              "#46039f"
             ],
             [
              0.2222222222222222,
              "#7201a8"
             ],
             [
              0.3333333333333333,
              "#9c179e"
             ],
             [
              0.4444444444444444,
              "#bd3786"
             ],
             [
              0.5555555555555556,
              "#d8576b"
             ],
             [
              0.6666666666666666,
              "#ed7953"
             ],
             [
              0.7777777777777778,
              "#fb9f3a"
             ],
             [
              0.8888888888888888,
              "#fdca26"
             ],
             [
              1,
              "#f0f921"
             ]
            ],
            "type": "contour"
           }
          ],
          "contourcarpet": [
           {
            "colorbar": {
             "outlinewidth": 0,
             "ticks": ""
            },
            "type": "contourcarpet"
           }
          ],
          "heatmap": [
           {
            "colorbar": {
             "outlinewidth": 0,
             "ticks": ""
            },
            "colorscale": [
             [
              0,
              "#0d0887"
             ],
             [
              0.1111111111111111,
              "#46039f"
             ],
             [
              0.2222222222222222,
              "#7201a8"
             ],
             [
              0.3333333333333333,
              "#9c179e"
             ],
             [
              0.4444444444444444,
              "#bd3786"
             ],
             [
              0.5555555555555556,
              "#d8576b"
             ],
             [
              0.6666666666666666,
              "#ed7953"
             ],
             [
              0.7777777777777778,
              "#fb9f3a"
             ],
             [
              0.8888888888888888,
              "#fdca26"
             ],
             [
              1,
              "#f0f921"
             ]
            ],
            "type": "heatmap"
           }
          ],
          "heatmapgl": [
           {
            "colorbar": {
             "outlinewidth": 0,
             "ticks": ""
            },
            "colorscale": [
             [
              0,
              "#0d0887"
             ],
             [
              0.1111111111111111,
              "#46039f"
             ],
             [
              0.2222222222222222,
              "#7201a8"
             ],
             [
              0.3333333333333333,
              "#9c179e"
             ],
             [
              0.4444444444444444,
              "#bd3786"
             ],
             [
              0.5555555555555556,
              "#d8576b"
             ],
             [
              0.6666666666666666,
              "#ed7953"
             ],
             [
              0.7777777777777778,
              "#fb9f3a"
             ],
             [
              0.8888888888888888,
              "#fdca26"
             ],
             [
              1,
              "#f0f921"
             ]
            ],
            "type": "heatmapgl"
           }
          ],
          "histogram": [
           {
            "marker": {
             "pattern": {
              "fillmode": "overlay",
              "size": 10,
              "solidity": 0.2
             }
            },
            "type": "histogram"
           }
          ],
          "histogram2d": [
           {
            "colorbar": {
             "outlinewidth": 0,
             "ticks": ""
            },
            "colorscale": [
             [
              0,
              "#0d0887"
             ],
             [
              0.1111111111111111,
              "#46039f"
             ],
             [
              0.2222222222222222,
              "#7201a8"
             ],
             [
              0.3333333333333333,
              "#9c179e"
             ],
             [
              0.4444444444444444,
              "#bd3786"
             ],
             [
              0.5555555555555556,
              "#d8576b"
             ],
             [
              0.6666666666666666,
              "#ed7953"
             ],
             [
              0.7777777777777778,
              "#fb9f3a"
             ],
             [
              0.8888888888888888,
              "#fdca26"
             ],
             [
              1,
              "#f0f921"
             ]
            ],
            "type": "histogram2d"
           }
          ],
          "histogram2dcontour": [
           {
            "colorbar": {
             "outlinewidth": 0,
             "ticks": ""
            },
            "colorscale": [
             [
              0,
              "#0d0887"
             ],
             [
              0.1111111111111111,
              "#46039f"
             ],
             [
              0.2222222222222222,
              "#7201a8"
             ],
             [
              0.3333333333333333,
              "#9c179e"
             ],
             [
              0.4444444444444444,
              "#bd3786"
             ],
             [
              0.5555555555555556,
              "#d8576b"
             ],
             [
              0.6666666666666666,
              "#ed7953"
             ],
             [
              0.7777777777777778,
              "#fb9f3a"
             ],
             [
              0.8888888888888888,
              "#fdca26"
             ],
             [
              1,
              "#f0f921"
             ]
            ],
            "type": "histogram2dcontour"
           }
          ],
          "mesh3d": [
           {
            "colorbar": {
             "outlinewidth": 0,
             "ticks": ""
            },
            "type": "mesh3d"
           }
          ],
          "parcoords": [
           {
            "line": {
             "colorbar": {
              "outlinewidth": 0,
              "ticks": ""
             }
            },
            "type": "parcoords"
           }
          ],
          "pie": [
           {
            "automargin": true,
            "type": "pie"
           }
          ],
          "scatter": [
           {
            "marker": {
             "line": {
              "color": "#283442"
             }
            },
            "type": "scatter"
           }
          ],
          "scatter3d": [
           {
            "line": {
             "colorbar": {
              "outlinewidth": 0,
              "ticks": ""
             }
            },
            "marker": {
             "colorbar": {
              "outlinewidth": 0,
              "ticks": ""
             }
            },
            "type": "scatter3d"
           }
          ],
          "scattercarpet": [
           {
            "marker": {
             "colorbar": {
              "outlinewidth": 0,
              "ticks": ""
             }
            },
            "type": "scattercarpet"
           }
          ],
          "scattergeo": [
           {
            "marker": {
             "colorbar": {
              "outlinewidth": 0,
              "ticks": ""
             }
            },
            "type": "scattergeo"
           }
          ],
          "scattergl": [
           {
            "marker": {
             "line": {
              "color": "#283442"
             }
            },
            "type": "scattergl"
           }
          ],
          "scattermapbox": [
           {
            "marker": {
             "colorbar": {
              "outlinewidth": 0,
              "ticks": ""
             }
            },
            "type": "scattermapbox"
           }
          ],
          "scatterpolar": [
           {
            "marker": {
             "colorbar": {
              "outlinewidth": 0,
              "ticks": ""
             }
            },
            "type": "scatterpolar"
           }
          ],
          "scatterpolargl": [
           {
            "marker": {
             "colorbar": {
              "outlinewidth": 0,
              "ticks": ""
             }
            },
            "type": "scatterpolargl"
           }
          ],
          "scatterternary": [
           {
            "marker": {
             "colorbar": {
              "outlinewidth": 0,
              "ticks": ""
             }
            },
            "type": "scatterternary"
           }
          ],
          "surface": [
           {
            "colorbar": {
             "outlinewidth": 0,
             "ticks": ""
            },
            "colorscale": [
             [
              0,
              "#0d0887"
             ],
             [
              0.1111111111111111,
              "#46039f"
             ],
             [
              0.2222222222222222,
              "#7201a8"
             ],
             [
              0.3333333333333333,
              "#9c179e"
             ],
             [
              0.4444444444444444,
              "#bd3786"
             ],
             [
              0.5555555555555556,
              "#d8576b"
             ],
             [
              0.6666666666666666,
              "#ed7953"
             ],
             [
              0.7777777777777778,
              "#fb9f3a"
             ],
             [
              0.8888888888888888,
              "#fdca26"
             ],
             [
              1,
              "#f0f921"
             ]
            ],
            "type": "surface"
           }
          ],
          "table": [
           {
            "cells": {
             "fill": {
              "color": "#506784"
             },
             "line": {
              "color": "rgb(17,17,17)"
             }
            },
            "header": {
             "fill": {
              "color": "#2a3f5f"
             },
             "line": {
              "color": "rgb(17,17,17)"
             }
            },
            "type": "table"
           }
          ]
         },
         "layout": {
          "annotationdefaults": {
           "arrowcolor": "#f2f5fa",
           "arrowhead": 0,
           "arrowwidth": 1
          },
          "autotypenumbers": "strict",
          "coloraxis": {
           "colorbar": {
            "outlinewidth": 0,
            "ticks": ""
           }
          },
          "colorscale": {
           "diverging": [
            [
             0,
             "#8e0152"
            ],
            [
             0.1,
             "#c51b7d"
            ],
            [
             0.2,
             "#de77ae"
            ],
            [
             0.3,
             "#f1b6da"
            ],
            [
             0.4,
             "#fde0ef"
            ],
            [
             0.5,
             "#f7f7f7"
            ],
            [
             0.6,
             "#e6f5d0"
            ],
            [
             0.7,
             "#b8e186"
            ],
            [
             0.8,
             "#7fbc41"
            ],
            [
             0.9,
             "#4d9221"
            ],
            [
             1,
             "#276419"
            ]
           ],
           "sequential": [
            [
             0,
             "#0d0887"
            ],
            [
             0.1111111111111111,
             "#46039f"
            ],
            [
             0.2222222222222222,
             "#7201a8"
            ],
            [
             0.3333333333333333,
             "#9c179e"
            ],
            [
             0.4444444444444444,
             "#bd3786"
            ],
            [
             0.5555555555555556,
             "#d8576b"
            ],
            [
             0.6666666666666666,
             "#ed7953"
            ],
            [
             0.7777777777777778,
             "#fb9f3a"
            ],
            [
             0.8888888888888888,
             "#fdca26"
            ],
            [
             1,
             "#f0f921"
            ]
           ],
           "sequentialminus": [
            [
             0,
             "#0d0887"
            ],
            [
             0.1111111111111111,
             "#46039f"
            ],
            [
             0.2222222222222222,
             "#7201a8"
            ],
            [
             0.3333333333333333,
             "#9c179e"
            ],
            [
             0.4444444444444444,
             "#bd3786"
            ],
            [
             0.5555555555555556,
             "#d8576b"
            ],
            [
             0.6666666666666666,
             "#ed7953"
            ],
            [
             0.7777777777777778,
             "#fb9f3a"
            ],
            [
             0.8888888888888888,
             "#fdca26"
            ],
            [
             1,
             "#f0f921"
            ]
           ]
          },
          "colorway": [
           "#636efa",
           "#EF553B",
           "#00cc96",
           "#ab63fa",
           "#FFA15A",
           "#19d3f3",
           "#FF6692",
           "#B6E880",
           "#FF97FF",
           "#FECB52"
          ],
          "font": {
           "color": "#f2f5fa"
          },
          "geo": {
           "bgcolor": "rgb(17,17,17)",
           "lakecolor": "rgb(17,17,17)",
           "landcolor": "rgb(17,17,17)",
           "showlakes": true,
           "showland": true,
           "subunitcolor": "#506784"
          },
          "hoverlabel": {
           "align": "left"
          },
          "hovermode": "closest",
          "mapbox": {
           "style": "dark"
          },
          "paper_bgcolor": "rgb(17,17,17)",
          "plot_bgcolor": "rgb(17,17,17)",
          "polar": {
           "angularaxis": {
            "gridcolor": "#506784",
            "linecolor": "#506784",
            "ticks": ""
           },
           "bgcolor": "rgb(17,17,17)",
           "radialaxis": {
            "gridcolor": "#506784",
            "linecolor": "#506784",
            "ticks": ""
           }
          },
          "scene": {
           "xaxis": {
            "backgroundcolor": "rgb(17,17,17)",
            "gridcolor": "#506784",
            "gridwidth": 2,
            "linecolor": "#506784",
            "showbackground": true,
            "ticks": "",
            "zerolinecolor": "#C8D4E3"
           },
           "yaxis": {
            "backgroundcolor": "rgb(17,17,17)",
            "gridcolor": "#506784",
            "gridwidth": 2,
            "linecolor": "#506784",
            "showbackground": true,
            "ticks": "",
            "zerolinecolor": "#C8D4E3"
           },
           "zaxis": {
            "backgroundcolor": "rgb(17,17,17)",
            "gridcolor": "#506784",
            "gridwidth": 2,
            "linecolor": "#506784",
            "showbackground": true,
            "ticks": "",
            "zerolinecolor": "#C8D4E3"
           }
          },
          "shapedefaults": {
           "line": {
            "color": "#f2f5fa"
           }
          },
          "sliderdefaults": {
           "bgcolor": "#C8D4E3",
           "bordercolor": "rgb(17,17,17)",
           "borderwidth": 1,
           "tickwidth": 0
          },
          "ternary": {
           "aaxis": {
            "gridcolor": "#506784",
            "linecolor": "#506784",
            "ticks": ""
           },
           "baxis": {
            "gridcolor": "#506784",
            "linecolor": "#506784",
            "ticks": ""
           },
           "bgcolor": "rgb(17,17,17)",
           "caxis": {
            "gridcolor": "#506784",
            "linecolor": "#506784",
            "ticks": ""
           }
          },
          "title": {
           "x": 0.05
          },
          "updatemenudefaults": {
           "bgcolor": "#506784",
           "borderwidth": 0
          },
          "xaxis": {
           "automargin": true,
           "gridcolor": "#283442",
           "linecolor": "#506784",
           "ticks": "",
           "title": {
            "standoff": 15
           },
           "zerolinecolor": "#283442",
           "zerolinewidth": 2
          },
          "yaxis": {
           "automargin": true,
           "gridcolor": "#283442",
           "linecolor": "#506784",
           "ticks": "",
           "title": {
            "standoff": 15
           },
           "zerolinecolor": "#283442",
           "zerolinewidth": 2
          }
         }
        },
        "title": {
         "text": "발표 전 후 서울 총거래  비교"
        },
        "width": 900,
        "xaxis": {
         "anchor": "y",
         "autorange": true,
         "domain": [
          0,
          1
         ],
         "range": [
          -1.0702947845804989,
          24.94331065759637
         ],
         "title": {
          "text": "구"
         },
         "type": "category"
        },
        "yaxis": {
         "anchor": "x",
         "autorange": true,
         "domain": [
          0,
          1
         ],
         "range": [
          0,
          2109.491525423729
         ],
         "title": {
          "text": "거래량(건)"
         },
         "type": "linear"
        }
       }
      },
      "image/png": "[encoded data removed]",
      "text/html": [
       "<div>                            <div id=\"d8ca4fb7-efae-452e-9005-d8cfc2c32e71\" class=\"plotly-graph-div\" style=\"height:500px; width:900px;\"></div>            <script type=\"text/javascript\">                require([\"plotly\"], function(Plotly) {                    window.PLOTLYENV=window.PLOTLYENV || {};                                    if (document.getElementById(\"d8ca4fb7-efae-452e-9005-d8cfc2c32e71\")) {                    Plotly.newPlot(                        \"d8ca4fb7-efae-452e-9005-d8cfc2c32e71\",                        [{\"alignmentgroup\":\"True\",\"hovertemplate\":\"\\ubc1c\\ud45c=\\ubc1c\\ud45c\\uc804<br>\\uad6c=%{x}<br>\\uac70\\ub798\\ub7c9(\\uac74)=%{y}<extra></extra>\",\"legendgroup\":\"\\ubc1c\\ud45c\\uc804\",\"marker\":{\"color\":\"#636efa\",\"pattern\":{\"shape\":\"\"}},\"name\":\"\\ubc1c\\ud45c\\uc804\",\"offsetgroup\":\"\\ubc1c\\ud45c\\uc804\",\"orientation\":\"v\",\"showlegend\":true,\"textposition\":\"auto\",\"x\":[\"\\uac15\\ub0a8\\uad6c\",\"\\uac15\\ub3d9\\uad6c\",\"\\uac15\\ubd81\\uad6c\",\"\\uac15\\uc11c\\uad6c\",\"\\uad00\\uc545\\uad6c\",\"\\uad11\\uc9c4\\uad6c\",\"\\uad6c\\ub85c\\uad6c\",\"\\uae08\\ucc9c\\uad6c\",\"\\ub178\\uc6d0\\uad6c\",\"\\ub3c4\\ubd09\\uad6c\",\"\\ub3d9\\ub300\\ubb38\\uad6c\",\"\\ub3d9\\uc791\\uad6c\",\"\\ub9c8\\ud3ec\\uad6c\",\"\\uc11c\\ub300\\ubb38\\uad6c\",\"\\uc11c\\ucd08\\uad6c\",\"\\uc131\\ub3d9\\uad6c\",\"\\uc131\\ubd81\\uad6c\",\"\\uc1a1\\ud30c\\uad6c\",\"\\uc591\\ucc9c\\uad6c\",\"\\uc601\\ub4f1\\ud3ec\\uad6c\",\"\\uc6a9\\uc0b0\\uad6c\",\"\\uc740\\ud3c9\\uad6c\",\"\\uc885\\ub85c\\uad6c\",\"\\uc911\\uad6c\",\"\\uc911\\ub791\\uad6c\"],\"xaxis\":\"x\",\"y\":[760,947,633,1625,720,654,878,589,736,545,703,738,848,507,593,662,763,1047,785,757,346,893,330,268,629],\"yaxis\":\"y\",\"type\":\"bar\"},{\"alignmentgroup\":\"True\",\"hovertemplate\":\"\\ubc1c\\ud45c=\\ubc1c\\ud45c\\ud6c4<br>\\uad6c=%{x}<br>\\uac70\\ub798\\ub7c9(\\uac74)=%{y}<extra></extra>\",\"legendgroup\":\"\\ubc1c\\ud45c\\ud6c4\",\"marker\":{\"color\":\"#EF553B\",\"pattern\":{\"shape\":\"\"}},\"name\":\"\\ubc1c\\ud45c\\ud6c4\",\"offsetgroup\":\"\\ubc1c\\ud45c\\ud6c4\",\"orientation\":\"v\",\"showlegend\":true,\"textposition\":\"auto\",\"x\":[\"\\uac15\\ub0a8\\uad6c\",\"\\uac15\\ub3d9\\uad6c\",\"\\uac15\\ubd81\\uad6c\",\"\\uac15\\uc11c\\uad6c\",\"\\uad00\\uc545\\uad6c\",\"\\uad11\\uc9c4\\uad6c\",\"\\uad6c\\ub85c\\uad6c\",\"\\uae08\\ucc9c\\uad6c\",\"\\ub178\\uc6d0\\uad6c\",\"\\ub3c4\\ubd09\\uad6c\",\"\\ub3d9\\ub300\\ubb38\\uad6c\",\"\\ub3d9\\uc791\\uad6c\",\"\\ub9c8\\ud3ec\\uad6c\",\"\\uc11c\\ub300\\ubb38\\uad6c\",\"\\uc11c\\ucd08\\uad6c\",\"\\uc131\\ub3d9\\uad6c\",\"\\uc131\\ubd81\\uad6c\",\"\\uc1a1\\ud30c\\uad6c\",\"\\uc591\\ucc9c\\uad6c\",\"\\uc601\\ub4f1\\ud3ec\\uad6c\",\"\\uc6a9\\uc0b0\\uad6c\",\"\\uc740\\ud3c9\\uad6c\",\"\\uc885\\ub85c\\uad6c\",\"\\uc911\\uad6c\",\"\\uc911\\ub791\\uad6c\"],\"xaxis\":\"x\",\"y\":[1563,1522,951,1778,1052,748,1090,679,1336,857,1062,1118,1311,969,1242,1043,1211,1741,1189,1387,599,1406,550,420,829],\"yaxis\":\"y\",\"type\":\"bar\"}],                        {\"template\":{\"data\":{\"barpolar\":[{\"marker\":{\"line\":{\"color\":\"rgb(17,17,17)\",\"width\":0.5},\"pattern\":{\"fillmode\":\"overlay\",\"size\":10,\"solidity\":0.2}},\"type\":\"barpolar\"}],\"bar\":[{\"error_x\":{\"color\":\"#f2f5fa\"},\"error_y\":{\"color\":\"#f2f5fa\"},\"marker\":{\"line\":{\"color\":\"rgb(17,17,17)\",\"width\":0.5},\"pattern\":{\"fillmode\":\"overlay\",\"size\":10,\"solidity\":0.2}},\"type\":\"bar\"}],\"carpet\":[{\"aaxis\":{\"endlinecolor\":\"#A2B1C6\",\"gridcolor\":\"#506784\",\"linecolor\":\"#506784\",\"minorgridcolor\":\"#506784\",\"startlinecolor\":\"#A2B1C6\"},\"baxis\":{\"endlinecolor\":\"#A2B1C6\",\"gridcolor\":\"#506784\",\"linecolor\":\"#506784\",\"minorgridcolor\":\"#506784\",\"startlinecolor\":\"#A2B1C6\"},\"type\":\"carpet\"}],\"choropleth\":[{\"colorbar\":{\"outlinewidth\":0,\"ticks\":\"\"},\"type\":\"choropleth\"}],\"contourcarpet\":[{\"colorbar\":{\"outlinewidth\":0,\"ticks\":\"\"},\"type\":\"contourcarpet\"}],\"contour\":[{\"colorbar\":{\"outlinewidth\":0,\"ticks\":\"\"},\"colorscale\":[[0.0,\"#0d0887\"],[0.1111111111111111,\"#46039f\"],[0.2222222222222222,\"#7201a8\"],[0.3333333333333333,\"#9c179e\"],[0.4444444444444444,\"#bd3786\"],[0.5555555555555556,\"#d8576b\"],[0.6666666666666666,\"#ed7953\"],[0.7777777777777778,\"#fb9f3a\"],[0.8888888888888888,\"#fdca26\"],[1.0,\"#f0f921\"]],\"type\":\"contour\"}],\"heatmapgl\":[{\"colorbar\":{\"outlinewidth\":0,\"ticks\":\"\"},\"colorscale\":[[0.0,\"#0d0887\"],[0.1111111111111111,\"#46039f\"],[0.2222222222222222,\"#7201a8\"],[0.3333333333333333,\"#9c179e\"],[0.4444444444444444,\"#bd3786\"],[0.5555555555555556,\"#d8576b\"],[0.6666666666666666,\"#ed7953\"],[0.7777777777777778,\"#fb9f3a\"],[0.8888888888888888,\"#fdca26\"],[1.0,\"#f0f921\"]],\"type\":\"heatmapgl\"}],\"heatmap\":[{\"colorbar\":{\"outlinewidth\":0,\"ticks\":\"\"},\"colorscale\":[[0.0,\"#0d0887\"],[0.1111111111111111,\"#46039f\"],[0.2222222222222222,\"#7201a8\"],[0.3333333333333333,\"#9c179e\"],[0.4444444444444444,\"#bd3786\"],[0.5555555555555556,\"#d8576b\"],[0.6666666666666666,\"#ed7953\"],[0.7777777777777778,\"#fb9f3a\"],[0.8888888888888888,\"#fdca26\"],[1.0,\"#f0f921\"]],\"type\":\"heatmap\"}],\"histogram2dcontour\":[{\"colorbar\":{\"outlinewidth\":0,\"ticks\":\"\"},\"colorscale\":[[0.0,\"#0d0887\"],[0.1111111111111111,\"#46039f\"],[0.2222222222222222,\"#7201a8\"],[0.3333333333333333,\"#9c179e\"],[0.4444444444444444,\"#bd3786\"],[0.5555555555555556,\"#d8576b\"],[0.6666666666666666,\"#ed7953\"],[0.7777777777777778,\"#fb9f3a\"],[0.8888888888888888,\"#fdca26\"],[1.0,\"#f0f921\"]],\"type\":\"histogram2dcontour\"}],\"histogram2d\":[{\"colorbar\":{\"outlinewidth\":0,\"ticks\":\"\"},\"colorscale\":[[0.0,\"#0d0887\"],[0.1111111111111111,\"#46039f\"],[0.2222222222222222,\"#7201a8\"],[0.3333333333333333,\"#9c179e\"],[0.4444444444444444,\"#bd3786\"],[0.5555555555555556,\"#d8576b\"],[0.6666666666666666,\"#ed7953\"],[0.7777777777777778,\"#fb9f3a\"],[0.8888888888888888,\"#fdca26\"],[1.0,\"#f0f921\"]],\"type\":\"histogram2d\"}],\"histogram\":[{\"marker\":{\"pattern\":{\"fillmode\":\"overlay\",\"size\":10,\"solidity\":0.2}},\"type\":\"histogram\"}],\"mesh3d\":[{\"colorbar\":{\"outlinewidth\":0,\"ticks\":\"\"},\"type\":\"mesh3d\"}],\"parcoords\":[{\"line\":{\"colorbar\":{\"outlinewidth\":0,\"ticks\":\"\"}},\"type\":\"parcoords\"}],\"pie\":[{\"automargin\":true,\"type\":\"pie\"}],\"scatter3d\":[{\"line\":{\"colorbar\":{\"outlinewidth\":0,\"ticks\":\"\"}},\"marker\":{\"colorbar\":{\"outlinewidth\":0,\"ticks\":\"\"}},\"type\":\"scatter3d\"}],\"scattercarpet\":[{\"marker\":{\"colorbar\":{\"outlinewidth\":0,\"ticks\":\"\"}},\"type\":\"scattercarpet\"}],\"scattergeo\":[{\"marker\":{\"colorbar\":{\"outlinewidth\":0,\"ticks\":\"\"}},\"type\":\"scattergeo\"}],\"scattergl\":[{\"marker\":{\"line\":{\"color\":\"#283442\"}},\"type\":\"scattergl\"}],\"scattermapbox\":[{\"marker\":{\"colorbar\":{\"outlinewidth\":0,\"ticks\":\"\"}},\"type\":\"scattermapbox\"}],\"scatterpolargl\":[{\"marker\":{\"colorbar\":{\"outlinewidth\":0,\"ticks\":\"\"}},\"type\":\"scatterpolargl\"}],\"scatterpolar\":[{\"marker\":{\"colorbar\":{\"outlinewidth\":0,\"ticks\":\"\"}},\"type\":\"scatterpolar\"}],\"scatter\":[{\"marker\":{\"line\":{\"color\":\"#283442\"}},\"type\":\"scatter\"}],\"scatterternary\":[{\"marker\":{\"colorbar\":{\"outlinewidth\":0,\"ticks\":\"\"}},\"type\":\"scatterternary\"}],\"surface\":[{\"colorbar\":{\"outlinewidth\":0,\"ticks\":\"\"},\"colorscale\":[[0.0,\"#0d0887\"],[0.1111111111111111,\"#46039f\"],[0.2222222222222222,\"#7201a8\"],[0.3333333333333333,\"#9c179e\"],[0.4444444444444444,\"#bd3786\"],[0.5555555555555556,\"#d8576b\"],[0.6666666666666666,\"#ed7953\"],[0.7777777777777778,\"#fb9f3a\"],[0.8888888888888888,\"#fdca26\"],[1.0,\"#f0f921\"]],\"type\":\"surface\"}],\"table\":[{\"cells\":{\"fill\":{\"color\":\"#506784\"},\"line\":{\"color\":\"rgb(17,17,17)\"}},\"header\":{\"fill\":{\"color\":\"#2a3f5f\"},\"line\":{\"color\":\"rgb(17,17,17)\"}},\"type\":\"table\"}]},\"layout\":{\"annotationdefaults\":{\"arrowcolor\":\"#f2f5fa\",\"arrowhead\":0,\"arrowwidth\":1},\"autotypenumbers\":\"strict\",\"coloraxis\":{\"colorbar\":{\"outlinewidth\":0,\"ticks\":\"\"}},\"colorscale\":{\"diverging\":[[0,\"#8e0152\"],[0.1,\"#c51b7d\"],[0.2,\"#de77ae\"],[0.3,\"#f1b6da\"],[0.4,\"#fde0ef\"],[0.5,\"#f7f7f7\"],[0.6,\"#e6f5d0\"],[0.7,\"#b8e186\"],[0.8,\"#7fbc41\"],[0.9,\"#4d9221\"],[1,\"#276419\"]],\"sequential\":[[0.0,\"#0d0887\"],[0.1111111111111111,\"#46039f\"],[0.2222222222222222,\"#7201a8\"],[0.3333333333333333,\"#9c179e\"],[0.4444444444444444,\"#bd3786\"],[0.5555555555555556,\"#d8576b\"],[0.6666666666666666,\"#ed7953\"],[0.7777777777777778,\"#fb9f3a\"],[0.8888888888888888,\"#fdca26\"],[1.0,\"#f0f921\"]],\"sequentialminus\":[[0.0,\"#0d0887\"],[0.1111111111111111,\"#46039f\"],[0.2222222222222222,\"#7201a8\"],[0.3333333333333333,\"#9c179e\"],[0.4444444444444444,\"#bd3786\"],[0.5555555555555556,\"#d8576b\"],[0.6666666666666666,\"#ed7953\"],[0.7777777777777778,\"#fb9f3a\"],[0.8888888888888888,\"#fdca26\"],[1.0,\"#f0f921\"]]},\"colorway\":[\"#636efa\",\"#EF553B\",\"#00cc96\",\"#ab63fa\",\"#FFA15A\",\"#19d3f3\",\"#FF6692\",\"#B6E880\",\"#FF97FF\",\"#FECB52\"],\"font\":{\"color\":\"#f2f5fa\"},\"geo\":{\"bgcolor\":\"rgb(17,17,17)\",\"lakecolor\":\"rgb(17,17,17)\",\"landcolor\":\"rgb(17,17,17)\",\"showlakes\":true,\"showland\":true,\"subunitcolor\":\"#506784\"},\"hoverlabel\":{\"align\":\"left\"},\"hovermode\":\"closest\",\"mapbox\":{\"style\":\"dark\"},\"paper_bgcolor\":\"rgb(17,17,17)\",\"plot_bgcolor\":\"rgb(17,17,17)\",\"polar\":{\"angularaxis\":{\"gridcolor\":\"#506784\",\"linecolor\":\"#506784\",\"ticks\":\"\"},\"bgcolor\":\"rgb(17,17,17)\",\"radialaxis\":{\"gridcolor\":\"#506784\",\"linecolor\":\"#506784\",\"ticks\":\"\"}},\"scene\":{\"xaxis\":{\"backgroundcolor\":\"rgb(17,17,17)\",\"gridcolor\":\"#506784\",\"gridwidth\":2,\"linecolor\":\"#506784\",\"showbackground\":true,\"ticks\":\"\",\"zerolinecolor\":\"#C8D4E3\"},\"yaxis\":{\"backgroundcolor\":\"rgb(17,17,17)\",\"gridcolor\":\"#506784\",\"gridwidth\":2,\"linecolor\":\"#506784\",\"showbackground\":true,\"ticks\":\"\",\"zerolinecolor\":\"#C8D4E3\"},\"zaxis\":{\"backgroundcolor\":\"rgb(17,17,17)\",\"gridcolor\":\"#506784\",\"gridwidth\":2,\"linecolor\":\"#506784\",\"showbackground\":true,\"ticks\":\"\",\"zerolinecolor\":\"#C8D4E3\"}},\"shapedefaults\":{\"line\":{\"color\":\"#f2f5fa\"}},\"sliderdefaults\":{\"bgcolor\":\"#C8D4E3\",\"bordercolor\":\"rgb(17,17,17)\",\"borderwidth\":1,\"tickwidth\":0},\"ternary\":{\"aaxis\":{\"gridcolor\":\"#506784\",\"linecolor\":\"#506784\",\"ticks\":\"\"},\"baxis\":{\"gridcolor\":\"#506784\",\"linecolor\":\"#506784\",\"ticks\":\"\"},\"bgcolor\":\"rgb(17,17,17)\",\"caxis\":{\"gridcolor\":\"#506784\",\"linecolor\":\"#506784\",\"ticks\":\"\"}},\"title\":{\"x\":0.05},\"updatemenudefaults\":{\"bgcolor\":\"#506784\",\"borderwidth\":0},\"xaxis\":{\"automargin\":true,\"gridcolor\":\"#283442\",\"linecolor\":\"#506784\",\"ticks\":\"\",\"title\":{\"standoff\":15},\"zerolinecolor\":\"#283442\",\"zerolinewidth\":2},\"yaxis\":{\"automargin\":true,\"gridcolor\":\"#283442\",\"linecolor\":\"#506784\",\"ticks\":\"\",\"title\":{\"standoff\":15},\"zerolinecolor\":\"#283442\",\"zerolinewidth\":2}}},\"xaxis\":{\"anchor\":\"y\",\"domain\":[0.0,1.0],\"title\":{\"text\":\"\\uad6c\"}},\"yaxis\":{\"anchor\":\"x\",\"domain\":[0.0,1.0],\"title\":{\"text\":\"\\uac70\\ub798\\ub7c9(\\uac74)\"}},\"legend\":{\"title\":{\"text\":\"\\ubc1c\\ud45c\"},\"tracegroupgap\":0},\"title\":{\"text\":\"\\ubc1c\\ud45c \\uc804 \\ud6c4 \\uc11c\\uc6b8 \\ucd1d\\uac70\\ub798  \\ube44\\uad50\"},\"barmode\":\"group\",\"height\":500,\"width\":900,\"annotations\":[{\"arrowcolor\":\"red\",\"arrowhead\":4,\"ax\":0,\"ay\":-40,\"showarrow\":true,\"text\":\"105.66%\",\"x\":\"\\uac15\\ub0a8\\uad6c\",\"y\":1563},{\"arrowcolor\":\"red\",\"arrowhead\":4,\"ax\":0,\"ay\":-40,\"showarrow\":true,\"text\":\"60.72%\",\"x\":\"\\uac15\\ub3d9\\uad6c\",\"y\":1522},{\"arrowcolor\":\"red\",\"arrowhead\":4,\"ax\":0,\"ay\":-40,\"showarrow\":true,\"text\":\"50.24%\",\"x\":\"\\uac15\\ubd81\\uad6c\",\"y\":951},{\"arrowcolor\":\"red\",\"arrowhead\":4,\"ax\":0,\"ay\":-40,\"showarrow\":true,\"text\":\"9.42%\",\"x\":\"\\uac15\\uc11c\\uad6c\",\"y\":1778},{\"arrowcolor\":\"red\",\"arrowhead\":4,\"ax\":0,\"ay\":-40,\"showarrow\":true,\"text\":\"46.11%\",\"x\":\"\\uad00\\uc545\\uad6c\",\"y\":1052},{\"arrowcolor\":\"red\",\"arrowhead\":4,\"ax\":0,\"ay\":-40,\"showarrow\":true,\"text\":\"14.37%\",\"x\":\"\\uad11\\uc9c4\\uad6c\",\"y\":748},{\"arrowcolor\":\"red\",\"arrowhead\":4,\"ax\":0,\"ay\":-40,\"showarrow\":true,\"text\":\"24.15%\",\"x\":\"\\uad6c\\ub85c\\uad6c\",\"y\":1090},{\"arrowcolor\":\"red\",\"arrowhead\":4,\"ax\":0,\"ay\":-40,\"showarrow\":true,\"text\":\"15.28%\",\"x\":\"\\uae08\\ucc9c\\uad6c\",\"y\":679},{\"arrowcolor\":\"red\",\"arrowhead\":4,\"ax\":0,\"ay\":-40,\"showarrow\":true,\"text\":\"81.52%\",\"x\":\"\\ub178\\uc6d0\\uad6c\",\"y\":1336},{\"arrowcolor\":\"red\",\"arrowhead\":4,\"ax\":0,\"ay\":-40,\"showarrow\":true,\"text\":\"57.25%\",\"x\":\"\\ub3c4\\ubd09\\uad6c\",\"y\":857},{\"arrowcolor\":\"red\",\"arrowhead\":4,\"ax\":0,\"ay\":-40,\"showarrow\":true,\"text\":\"51.07%\",\"x\":\"\\ub3d9\\ub300\\ubb38\\uad6c\",\"y\":1062},{\"arrowcolor\":\"red\",\"arrowhead\":4,\"ax\":0,\"ay\":-40,\"showarrow\":true,\"text\":\"51.49%\",\"x\":\"\\ub3d9\\uc791\\uad6c\",\"y\":1118},{\"arrowcolor\":\"red\",\"arrowhead\":4,\"ax\":0,\"ay\":-40,\"showarrow\":true,\"text\":\"54.60%\",\"x\":\"\\ub9c8\\ud3ec\\uad6c\",\"y\":1311},{\"arrowcolor\":\"red\",\"arrowhead\":4,\"ax\":0,\"ay\":-40,\"showarrow\":true,\"text\":\"91.12%\",\"x\":\"\\uc11c\\ub300\\ubb38\\uad6c\",\"y\":969},{\"arrowcolor\":\"red\",\"arrowhead\":4,\"ax\":0,\"ay\":-40,\"showarrow\":true,\"text\":\"109.44%\",\"x\":\"\\uc11c\\ucd08\\uad6c\",\"y\":1242},{\"arrowcolor\":\"red\",\"arrowhead\":4,\"ax\":0,\"ay\":-40,\"showarrow\":true,\"text\":\"57.55%\",\"x\":\"\\uc131\\ub3d9\\uad6c\",\"y\":1043},{\"arrowcolor\":\"red\",\"arrowhead\":4,\"ax\":0,\"ay\":-40,\"showarrow\":true,\"text\":\"58.72%\",\"x\":\"\\uc131\\ubd81\\uad6c\",\"y\":1211},{\"arrowcolor\":\"red\",\"arrowhead\":4,\"ax\":0,\"ay\":-40,\"showarrow\":true,\"text\":\"66.28%\",\"x\":\"\\uc1a1\\ud30c\\uad6c\",\"y\":1741},{\"arrowcolor\":\"red\",\"arrowhead\":4,\"ax\":0,\"ay\":-40,\"showarrow\":true,\"text\":\"51.46%\",\"x\":\"\\uc591\\ucc9c\\uad6c\",\"y\":1189},{\"arrowcolor\":\"red\",\"arrowhead\":4,\"ax\":0,\"ay\":-40,\"showarrow\":true,\"text\":\"83.22%\",\"x\":\"\\uc601\\ub4f1\\ud3ec\\uad6c\",\"y\":1387},{\"arrowcolor\":\"red\",\"arrowhead\":4,\"ax\":0,\"ay\":-40,\"showarrow\":true,\"text\":\"73.12%\",\"x\":\"\\uc6a9\\uc0b0\\uad6c\",\"y\":599},{\"arrowcolor\":\"red\",\"arrowhead\":4,\"ax\":0,\"ay\":-40,\"showarrow\":true,\"text\":\"57.45%\",\"x\":\"\\uc740\\ud3c9\\uad6c\",\"y\":1406},{\"arrowcolor\":\"red\",\"arrowhead\":4,\"ax\":0,\"ay\":-40,\"showarrow\":true,\"text\":\"66.67%\",\"x\":\"\\uc885\\ub85c\\uad6c\",\"y\":550},{\"arrowcolor\":\"red\",\"arrowhead\":4,\"ax\":0,\"ay\":-40,\"showarrow\":true,\"text\":\"56.72%\",\"x\":\"\\uc911\\uad6c\",\"y\":420},{\"arrowcolor\":\"red\",\"arrowhead\":4,\"ax\":0,\"ay\":-40,\"showarrow\":true,\"text\":\"31.80%\",\"x\":\"\\uc911\\ub791\\uad6c\",\"y\":829}]},                        {\"responsive\": true}                    ).then(function(){\n",
       "                            \n",
       "var gd = document.getElementById('d8ca4fb7-efae-452e-9005-d8cfc2c32e71');\n",
       "var x = new MutationObserver(function (mutations, observer) {{\n",
       "        var display = window.getComputedStyle(gd).display;\n",
       "        if (!display || display === 'none') {{\n",
       "            console.log([gd, 'removed!']);\n",
       "            Plotly.purge(gd);\n",
       "            observer.disconnect();\n",
       "        }}\n",
       "}});\n",
       "\n",
       "// Listen for the removal of the full notebook cells\n",
       "var notebookContainer = gd.closest('#notebook-container');\n",
       "if (notebookContainer) {{\n",
       "    x.observe(notebookContainer, {childList: true});\n",
       "}}\n",
       "\n",
       "// Listen for the clearing of the current output cell\n",
       "var outputEl = gd.closest('.output');\n",
       "if (outputEl) {{\n",
       "    x.observe(outputEl, {childList: true});\n",
       "}}\n",
       "\n",
       "                        })                };                });            </script>        </div>"
      ]
     },
     "metadata": {},
     "output_type": "display_data"
    }
   ],
   "source": [
    "df_서울=pd.read_csv(\"data/df_서울.csv\")\n",
    "\n",
    "df_서울_발표전=df_서울.loc[df_서울['발표']=='발표전', :]\n",
    "df_서울_발표후=df_서울.loc[df_서울['발표']=='발표후', :]\n",
    "\n",
    "서울_after_avg=df_서울_발표전.groupby('자치구명')['물건금액(만원)'].count().reset_index()\n",
    "서울_before_avg=df_서울_발표후.groupby('자치구명')['물건금액(만원)'].count().reset_index()\n",
    "\n",
    "병합데이터=pd.concat([서울_before_avg.assign(발표='발표전'),서울_after_avg.assign(발표='발표후')])\n",
    "\n",
    "\n",
    "fig=px.bar(병합데이터,\n",
    "           x='자치구명',\n",
    "           y='물건금액(만원)',\n",
    "           color='발표',\n",
    "           barmode='group',\n",
    "           title='발표 전 후 서울 총거래  비교',\n",
    "           labels={'자치구명': '구', '물건금액(만원)': '거래량(건)'},\n",
    "           template='plotly_dark',  # Dark mode template\n",
    "           width=900,  # Width of the plot\n",
    "           height=500,  # Height of the plo\n",
    "           )\n",
    "for sgg in 병합데이터['자치구명'].unique():\n",
    "    before_count = 서울_before_avg[서울_before_avg['자치구명'] == sgg]['물건금액(만원)'].values[0]\n",
    "    after_count = 서울_after_avg[서울_after_avg['자치구명'] == sgg]['물건금액(만원)'].values[0]\n",
    "    percent_increase = ((after_count - before_count) / before_count) * 100\n",
    "    fig.add_annotation(\n",
    "        x=sgg,\n",
    "        y=max(before_count, after_count),\n",
    "        text=f'{percent_increase:.2f}%',\n",
    "        showarrow=True,\n",
    "        arrowcolor='red',\n",
    "        arrowhead=4,\n",
    "        ax=0,\n",
    "        ay=-40\n",
    "    )\n",
    "    \n",
    "fig.show()"
   ]
  },
  {
   "cell_type": "markdown",
   "id": "16465a31-84f7-44de-bd10-2ec109a6dbf1",
   "metadata": {},
   "source": [
    "# 여기서부터 김포입니다."
   ]
  },
  {
   "cell_type": "code",
   "execution_count": 22,
   "id": "18bad929-8688-4398-8a37-266db8c524be",
   "metadata": {
    "tags": []
   },
   "outputs": [
    {
     "data": {
      "application/vnd.plotly.v1+json": {
       "config": {
        "plotlyServerURL": "https://plot.ly"
       },
       "data": [
        {
         "alignmentgroup": "True",
         "hovertemplate": "발표=발표전<br>시군구=%{x}<br>거래량(건)=%{y}<extra></extra>",
         "legendgroup": "발표전",
         "marker": {
          "color": "#636efa",
          "pattern": {
           "shape": ""
          }
         },
         "name": "발표전",
         "offsetgroup": "발표전",
         "orientation": "v",
         "showlegend": true,
         "textposition": "auto",
         "type": "bar",
         "x": [
          "감정동",
          "걸포동",
          "고촌읍",
          "구래동",
          "대곶면",
          "마산동",
          "북변동",
          "사우동",
          "양촌읍",
          "운양동",
          "월곶면",
          "장기동",
          "통진읍",
          "풍무동",
          "하성면"
         ],
         "xaxis": "x",
         "y": [
          79,
          71,
          209,
          197,
          17,
          113,
          65,
          72,
          82,
          243,
          19,
          335,
          147,
          306,
          24
         ],
         "yaxis": "y"
        },
        {
         "alignmentgroup": "True",
         "hovertemplate": "발표=발표후<br>시군구=%{x}<br>거래량(건)=%{y}<extra></extra>",
         "legendgroup": "발표후",
         "marker": {
          "color": "#EF553B",
          "pattern": {
           "shape": ""
          }
         },
         "name": "발표후",
         "offsetgroup": "발표후",
         "orientation": "v",
         "showlegend": true,
         "textposition": "auto",
         "type": "bar",
         "x": [
          "감정동",
          "걸포동",
          "고촌읍",
          "구래동",
          "대곶면",
          "마산동",
          "북변동",
          "사우동",
          "양촌읍",
          "운양동",
          "월곶면",
          "장기동",
          "통진읍",
          "풍무동",
          "하성면"
         ],
         "xaxis": "x",
         "y": [
          88,
          59,
          150,
          176,
          21,
          98,
          55,
          70,
          81,
          188,
          15,
          272,
          106,
          245,
          13
         ],
         "yaxis": "y"
        }
       ],
       "layout": {
        "annotations": [
         {
          "arrowcolor": "red",
          "arrowhead": 4,
          "ax": 0,
          "ay": -40,
          "showarrow": true,
          "text": "11.39%",
          "x": "감정동",
          "y": 88
         },
         {
          "arrowcolor": "red",
          "arrowhead": 4,
          "ax": 0,
          "ay": -40,
          "showarrow": true,
          "text": "-16.90%",
          "x": "걸포동",
          "y": 71
         },
         {
          "arrowcolor": "red",
          "arrowhead": 4,
          "ax": 0,
          "ay": -40,
          "showarrow": true,
          "text": "-28.23%",
          "x": "고촌읍",
          "y": 209
         },
         {
          "arrowcolor": "red",
          "arrowhead": 4,
          "ax": 0,
          "ay": -40,
          "showarrow": true,
          "text": "-10.66%",
          "x": "구래동",
          "y": 197
         },
         {
          "arrowcolor": "red",
          "arrowhead": 4,
          "ax": 0,
          "ay": -40,
          "showarrow": true,
          "text": "23.53%",
          "x": "대곶면",
          "y": 21
         },
         {
          "arrowcolor": "red",
          "arrowhead": 4,
          "ax": 0,
          "ay": -40,
          "showarrow": true,
          "text": "-13.27%",
          "x": "마산동",
          "y": 113
         },
         {
          "arrowcolor": "red",
          "arrowhead": 4,
          "ax": 0,
          "ay": -40,
          "showarrow": true,
          "text": "-15.38%",
          "x": "북변동",
          "y": 65
         },
         {
          "arrowcolor": "red",
          "arrowhead": 4,
          "ax": 0,
          "ay": -40,
          "showarrow": true,
          "text": "-2.78%",
          "x": "사우동",
          "y": 72
         },
         {
          "arrowcolor": "red",
          "arrowhead": 4,
          "ax": 0,
          "ay": -40,
          "showarrow": true,
          "text": "-1.22%",
          "x": "양촌읍",
          "y": 82
         },
         {
          "arrowcolor": "red",
          "arrowhead": 4,
          "ax": 0,
          "ay": -40,
          "showarrow": true,
          "text": "-22.63%",
          "x": "운양동",
          "y": 243
         },
         {
          "arrowcolor": "red",
          "arrowhead": 4,
          "ax": 0,
          "ay": -40,
          "showarrow": true,
          "text": "-21.05%",
          "x": "월곶면",
          "y": 19
         },
         {
          "arrowcolor": "red",
          "arrowhead": 4,
          "ax": 0,
          "ay": -40,
          "showarrow": true,
          "text": "-18.81%",
          "x": "장기동",
          "y": 335
         },
         {
          "arrowcolor": "red",
          "arrowhead": 4,
          "ax": 0,
          "ay": -40,
          "showarrow": true,
          "text": "-27.89%",
          "x": "통진읍",
          "y": 147
         },
         {
          "arrowcolor": "red",
          "arrowhead": 4,
          "ax": 0,
          "ay": -40,
          "showarrow": true,
          "text": "-19.93%",
          "x": "풍무동",
          "y": 306
         },
         {
          "arrowcolor": "red",
          "arrowhead": 4,
          "ax": 0,
          "ay": -40,
          "showarrow": true,
          "text": "-45.83%",
          "x": "하성면",
          "y": 24
         }
        ],
        "barmode": "group",
        "height": 500,
        "legend": {
         "title": {
          "text": "발표"
         },
         "tracegroupgap": 0
        },
        "template": {
         "data": {
          "bar": [
           {
            "error_x": {
             "color": "#f2f5fa"
            },
            "error_y": {
             "color": "#f2f5fa"
            },
            "marker": {
             "line": {
              "color": "rgb(17,17,17)",
              "width": 0.5
             },
             "pattern": {
              "fillmode": "overlay",
              "size": 10,
              "solidity": 0.2
             }
            },
            "type": "bar"
           }
          ],
          "barpolar": [
           {
            "marker": {
             "line": {
              "color": "rgb(17,17,17)",
              "width": 0.5
             },
             "pattern": {
              "fillmode": "overlay",
              "size": 10,
              "solidity": 0.2
             }
            },
            "type": "barpolar"
           }
          ],
          "carpet": [
           {
            "aaxis": {
             "endlinecolor": "#A2B1C6",
             "gridcolor": "#506784",
             "linecolor": "#506784",
             "minorgridcolor": "#506784",
             "startlinecolor": "#A2B1C6"
            },
            "baxis": {
             "endlinecolor": "#A2B1C6",
             "gridcolor": "#506784",
             "linecolor": "#506784",
             "minorgridcolor": "#506784",
             "startlinecolor": "#A2B1C6"
            },
            "type": "carpet"
           }
          ],
          "choropleth": [
           {
            "colorbar": {
             "outlinewidth": 0,
             "ticks": ""
            },
            "type": "choropleth"
           }
          ],
          "contour": [
           {
            "colorbar": {
             "outlinewidth": 0,
             "ticks": ""
            },
            "colorscale": [
             [
              0,
              "#0d0887"
             ],
             [
              0.1111111111111111,
              "#46039f"
             ],
             [
              0.2222222222222222,
              "#7201a8"
             ],
             [
              0.3333333333333333,
              "#9c179e"
             ],
             [
              0.4444444444444444,
              "#bd3786"
             ],
             [
              0.5555555555555556,
              "#d8576b"
             ],
             [
              0.6666666666666666,
              "#ed7953"
             ],
             [
              0.7777777777777778,
              "#fb9f3a"
             ],
             [
              0.8888888888888888,
              "#fdca26"
             ],
             [
              1,
              "#f0f921"
             ]
            ],
            "type": "contour"
           }
          ],
          "contourcarpet": [
           {
            "colorbar": {
             "outlinewidth": 0,
             "ticks": ""
            },
            "type": "contourcarpet"
           }
          ],
          "heatmap": [
           {
            "colorbar": {
             "outlinewidth": 0,
             "ticks": ""
            },
            "colorscale": [
             [
              0,
              "#0d0887"
             ],
             [
              0.1111111111111111,
              "#46039f"
             ],
             [
              0.2222222222222222,
              "#7201a8"
             ],
             [
              0.3333333333333333,
              "#9c179e"
             ],
             [
              0.4444444444444444,
              "#bd3786"
             ],
             [
              0.5555555555555556,
              "#d8576b"
             ],
             [
              0.6666666666666666,
              "#ed7953"
             ],
             [
              0.7777777777777778,
              "#fb9f3a"
             ],
             [
              0.8888888888888888,
              "#fdca26"
             ],
             [
              1,
              "#f0f921"
             ]
            ],
            "type": "heatmap"
           }
          ],
          "heatmapgl": [
           {
            "colorbar": {
             "outlinewidth": 0,
             "ticks": ""
            },
            "colorscale": [
             [
              0,
              "#0d0887"
             ],
             [
              0.1111111111111111,
              "#46039f"
             ],
             [
              0.2222222222222222,
              "#7201a8"
             ],
             [
              0.3333333333333333,
              "#9c179e"
             ],
             [
              0.4444444444444444,
              "#bd3786"
             ],
             [
              0.5555555555555556,
              "#d8576b"
             ],
             [
              0.6666666666666666,
              "#ed7953"
             ],
             [
              0.7777777777777778,
              "#fb9f3a"
             ],
             [
              0.8888888888888888,
              "#fdca26"
             ],
             [
              1,
              "#f0f921"
             ]
            ],
            "type": "heatmapgl"
           }
          ],
          "histogram": [
           {
            "marker": {
             "pattern": {
              "fillmode": "overlay",
              "size": 10,
              "solidity": 0.2
             }
            },
            "type": "histogram"
           }
          ],
          "histogram2d": [
           {
            "colorbar": {
             "outlinewidth": 0,
             "ticks": ""
            },
            "colorscale": [
             [
              0,
              "#0d0887"
             ],
             [
              0.1111111111111111,
              "#46039f"
             ],
             [
              0.2222222222222222,
              "#7201a8"
             ],
             [
              0.3333333333333333,
              "#9c179e"
             ],
             [
              0.4444444444444444,
              "#bd3786"
             ],
             [
              0.5555555555555556,
              "#d8576b"
             ],
             [
              0.6666666666666666,
              "#ed7953"
             ],
             [
              0.7777777777777778,
              "#fb9f3a"
             ],
             [
              0.8888888888888888,
              "#fdca26"
             ],
             [
              1,
              "#f0f921"
             ]
            ],
            "type": "histogram2d"
           }
          ],
          "histogram2dcontour": [
           {
            "colorbar": {
             "outlinewidth": 0,
             "ticks": ""
            },
            "colorscale": [
             [
              0,
              "#0d0887"
             ],
             [
              0.1111111111111111,
              "#46039f"
             ],
             [
              0.2222222222222222,
              "#7201a8"
             ],
             [
              0.3333333333333333,
              "#9c179e"
             ],
             [
              0.4444444444444444,
              "#bd3786"
             ],
             [
              0.5555555555555556,
              "#d8576b"
             ],
             [
              0.6666666666666666,
              "#ed7953"
             ],
             [
              0.7777777777777778,
              "#fb9f3a"
             ],
             [
              0.8888888888888888,
              "#fdca26"
             ],
             [
              1,
              "#f0f921"
             ]
            ],
            "type": "histogram2dcontour"
           }
          ],
          "mesh3d": [
           {
            "colorbar": {
             "outlinewidth": 0,
             "ticks": ""
            },
            "type": "mesh3d"
           }
          ],
          "parcoords": [
           {
            "line": {
             "colorbar": {
              "outlinewidth": 0,
              "ticks": ""
             }
            },
            "type": "parcoords"
           }
          ],
          "pie": [
           {
            "automargin": true,
            "type": "pie"
           }
          ],
          "scatter": [
           {
            "marker": {
             "line": {
              "color": "#283442"
             }
            },
            "type": "scatter"
           }
          ],
          "scatter3d": [
           {
            "line": {
             "colorbar": {
              "outlinewidth": 0,
              "ticks": ""
             }
            },
            "marker": {
             "colorbar": {
              "outlinewidth": 0,
              "ticks": ""
             }
            },
            "type": "scatter3d"
           }
          ],
          "scattercarpet": [
           {
            "marker": {
             "colorbar": {
              "outlinewidth": 0,
              "ticks": ""
             }
            },
            "type": "scattercarpet"
           }
          ],
          "scattergeo": [
           {
            "marker": {
             "colorbar": {
              "outlinewidth": 0,
              "ticks": ""
             }
            },
            "type": "scattergeo"
           }
          ],
          "scattergl": [
           {
            "marker": {
             "line": {
              "color": "#283442"
             }
            },
            "type": "scattergl"
           }
          ],
          "scattermapbox": [
           {
            "marker": {
             "colorbar": {
              "outlinewidth": 0,
              "ticks": ""
             }
            },
            "type": "scattermapbox"
           }
          ],
          "scatterpolar": [
           {
            "marker": {
             "colorbar": {
              "outlinewidth": 0,
              "ticks": ""
             }
            },
            "type": "scatterpolar"
           }
          ],
          "scatterpolargl": [
           {
            "marker": {
             "colorbar": {
              "outlinewidth": 0,
              "ticks": ""
             }
            },
            "type": "scatterpolargl"
           }
          ],
          "scatterternary": [
           {
            "marker": {
             "colorbar": {
              "outlinewidth": 0,
              "ticks": ""
             }
            },
            "type": "scatterternary"
           }
          ],
          "surface": [
           {
            "colorbar": {
             "outlinewidth": 0,
             "ticks": ""
            },
            "colorscale": [
             [
              0,
              "#0d0887"
             ],
             [
              0.1111111111111111,
              "#46039f"
             ],
             [
              0.2222222222222222,
              "#7201a8"
             ],
             [
              0.3333333333333333,
              "#9c179e"
             ],
             [
              0.4444444444444444,
              "#bd3786"
             ],
             [
              0.5555555555555556,
              "#d8576b"
             ],
             [
              0.6666666666666666,
              "#ed7953"
             ],
             [
              0.7777777777777778,
              "#fb9f3a"
             ],
             [
              0.8888888888888888,
              "#fdca26"
             ],
             [
              1,
              "#f0f921"
             ]
            ],
            "type": "surface"
           }
          ],
          "table": [
           {
            "cells": {
             "fill": {
              "color": "#506784"
             },
             "line": {
              "color": "rgb(17,17,17)"
             }
            },
            "header": {
             "fill": {
              "color": "#2a3f5f"
             },
             "line": {
              "color": "rgb(17,17,17)"
             }
            },
            "type": "table"
           }
          ]
         },
         "layout": {
          "annotationdefaults": {
           "arrowcolor": "#f2f5fa",
           "arrowhead": 0,
           "arrowwidth": 1
          },
          "autotypenumbers": "strict",
          "coloraxis": {
           "colorbar": {
            "outlinewidth": 0,
            "ticks": ""
           }
          },
          "colorscale": {
           "diverging": [
            [
             0,
             "#8e0152"
            ],
            [
             0.1,
             "#c51b7d"
            ],
            [
             0.2,
             "#de77ae"
            ],
            [
             0.3,
             "#f1b6da"
            ],
            [
             0.4,
             "#fde0ef"
            ],
            [
             0.5,
             "#f7f7f7"
            ],
            [
             0.6,
             "#e6f5d0"
            ],
            [
             0.7,
             "#b8e186"
            ],
            [
             0.8,
             "#7fbc41"
            ],
            [
             0.9,
             "#4d9221"
            ],
            [
             1,
             "#276419"
            ]
           ],
           "sequential": [
            [
             0,
             "#0d0887"
            ],
            [
             0.1111111111111111,
             "#46039f"
            ],
            [
             0.2222222222222222,
             "#7201a8"
            ],
            [
             0.3333333333333333,
             "#9c179e"
            ],
            [
             0.4444444444444444,
             "#bd3786"
            ],
            [
             0.5555555555555556,
             "#d8576b"
            ],
            [
             0.6666666666666666,
             "#ed7953"
            ],
            [
             0.7777777777777778,
             "#fb9f3a"
            ],
            [
             0.8888888888888888,
             "#fdca26"
            ],
            [
             1,
             "#f0f921"
            ]
           ],
           "sequentialminus": [
            [
             0,
             "#0d0887"
            ],
            [
             0.1111111111111111,
             "#46039f"
            ],
            [
             0.2222222222222222,
             "#7201a8"
            ],
            [
             0.3333333333333333,
             "#9c179e"
            ],
            [
             0.4444444444444444,
             "#bd3786"
            ],
            [
             0.5555555555555556,
             "#d8576b"
            ],
            [
             0.6666666666666666,
             "#ed7953"
            ],
            [
             0.7777777777777778,
             "#fb9f3a"
            ],
            [
             0.8888888888888888,
             "#fdca26"
            ],
            [
             1,
             "#f0f921"
            ]
           ]
          },
          "colorway": [
           "#636efa",
           "#EF553B",
           "#00cc96",
           "#ab63fa",
           "#FFA15A",
           "#19d3f3",
           "#FF6692",
           "#B6E880",
           "#FF97FF",
           "#FECB52"
          ],
          "font": {
           "color": "#f2f5fa"
          },
          "geo": {
           "bgcolor": "rgb(17,17,17)",
           "lakecolor": "rgb(17,17,17)",
           "landcolor": "rgb(17,17,17)",
           "showlakes": true,
           "showland": true,
           "subunitcolor": "#506784"
          },
          "hoverlabel": {
           "align": "left"
          },
          "hovermode": "closest",
          "mapbox": {
           "style": "dark"
          },
          "paper_bgcolor": "rgb(17,17,17)",
          "plot_bgcolor": "rgb(17,17,17)",
          "polar": {
           "angularaxis": {
            "gridcolor": "#506784",
            "linecolor": "#506784",
            "ticks": ""
           },
           "bgcolor": "rgb(17,17,17)",
           "radialaxis": {
            "gridcolor": "#506784",
            "linecolor": "#506784",
            "ticks": ""
           }
          },
          "scene": {
           "xaxis": {
            "backgroundcolor": "rgb(17,17,17)",
            "gridcolor": "#506784",
            "gridwidth": 2,
            "linecolor": "#506784",
            "showbackground": true,
            "ticks": "",
            "zerolinecolor": "#C8D4E3"
           },
           "yaxis": {
            "backgroundcolor": "rgb(17,17,17)",
            "gridcolor": "#506784",
            "gridwidth": 2,
            "linecolor": "#506784",
            "showbackground": true,
            "ticks": "",
            "zerolinecolor": "#C8D4E3"
           },
           "zaxis": {
            "backgroundcolor": "rgb(17,17,17)",
            "gridcolor": "#506784",
            "gridwidth": 2,
            "linecolor": "#506784",
            "showbackground": true,
            "ticks": "",
            "zerolinecolor": "#C8D4E3"
           }
          },
          "shapedefaults": {
           "line": {
            "color": "#f2f5fa"
           }
          },
          "sliderdefaults": {
           "bgcolor": "#C8D4E3",
           "bordercolor": "rgb(17,17,17)",
           "borderwidth": 1,
           "tickwidth": 0
          },
          "ternary": {
           "aaxis": {
            "gridcolor": "#506784",
            "linecolor": "#506784",
            "ticks": ""
           },
           "baxis": {
            "gridcolor": "#506784",
            "linecolor": "#506784",
            "ticks": ""
           },
           "bgcolor": "rgb(17,17,17)",
           "caxis": {
            "gridcolor": "#506784",
            "linecolor": "#506784",
            "ticks": ""
           }
          },
          "title": {
           "x": 0.05
          },
          "updatemenudefaults": {
           "bgcolor": "#506784",
           "borderwidth": 0
          },
          "xaxis": {
           "automargin": true,
           "gridcolor": "#283442",
           "linecolor": "#506784",
           "ticks": "",
           "title": {
            "standoff": 15
           },
           "zerolinecolor": "#283442",
           "zerolinewidth": 2
          },
          "yaxis": {
           "automargin": true,
           "gridcolor": "#283442",
           "linecolor": "#506784",
           "ticks": "",
           "title": {
            "standoff": 15
           },
           "zerolinecolor": "#283442",
           "zerolinewidth": 2
          }
         }
        },
        "title": {
         "text": "발표 전 후 김포 총거래 비교"
        },
        "width": 900,
        "xaxis": {
         "anchor": "y",
         "autorange": true,
         "domain": [
          0,
          1
         ],
         "range": [
          -0.549433962264151,
          14.602264150943396
         ],
         "title": {
          "text": "시군구"
         },
         "type": "category"
        },
        "yaxis": {
         "anchor": "x",
         "autorange": true,
         "domain": [
          0,
          1
         ],
         "range": [
          0,
          396.3031423290203
         ],
         "title": {
          "text": "거래량(건)"
         },
         "type": "linear"
        }
       }
      },
      "image/png": "[encoded data removed]",
      "text/html": [
       "<div>                            <div id=\"f91aab00-687b-4378-b50a-423109712933\" class=\"plotly-graph-div\" style=\"height:500px; width:900px;\"></div>            <script type=\"text/javascript\">                require([\"plotly\"], function(Plotly) {                    window.PLOTLYENV=window.PLOTLYENV || {};                                    if (document.getElementById(\"f91aab00-687b-4378-b50a-423109712933\")) {                    Plotly.newPlot(                        \"f91aab00-687b-4378-b50a-423109712933\",                        [{\"alignmentgroup\":\"True\",\"hovertemplate\":\"\\ubc1c\\ud45c=\\ubc1c\\ud45c\\uc804<br>\\uc2dc\\uad70\\uad6c=%{x}<br>\\uac70\\ub798\\ub7c9(\\uac74)=%{y}<extra></extra>\",\"legendgroup\":\"\\ubc1c\\ud45c\\uc804\",\"marker\":{\"color\":\"#636efa\",\"pattern\":{\"shape\":\"\"}},\"name\":\"\\ubc1c\\ud45c\\uc804\",\"offsetgroup\":\"\\ubc1c\\ud45c\\uc804\",\"orientation\":\"v\",\"showlegend\":true,\"textposition\":\"auto\",\"x\":[\"\\uac10\\uc815\\ub3d9\",\"\\uac78\\ud3ec\\ub3d9\",\"\\uace0\\ucd0c\\uc74d\",\"\\uad6c\\ub798\\ub3d9\",\"\\ub300\\uacf6\\uba74\",\"\\ub9c8\\uc0b0\\ub3d9\",\"\\ubd81\\ubcc0\\ub3d9\",\"\\uc0ac\\uc6b0\\ub3d9\",\"\\uc591\\ucd0c\\uc74d\",\"\\uc6b4\\uc591\\ub3d9\",\"\\uc6d4\\uacf6\\uba74\",\"\\uc7a5\\uae30\\ub3d9\",\"\\ud1b5\\uc9c4\\uc74d\",\"\\ud48d\\ubb34\\ub3d9\",\"\\ud558\\uc131\\uba74\"],\"xaxis\":\"x\",\"y\":[79,71,209,197,17,113,65,72,82,243,19,335,147,306,24],\"yaxis\":\"y\",\"type\":\"bar\"},{\"alignmentgroup\":\"True\",\"hovertemplate\":\"\\ubc1c\\ud45c=\\ubc1c\\ud45c\\ud6c4<br>\\uc2dc\\uad70\\uad6c=%{x}<br>\\uac70\\ub798\\ub7c9(\\uac74)=%{y}<extra></extra>\",\"legendgroup\":\"\\ubc1c\\ud45c\\ud6c4\",\"marker\":{\"color\":\"#EF553B\",\"pattern\":{\"shape\":\"\"}},\"name\":\"\\ubc1c\\ud45c\\ud6c4\",\"offsetgroup\":\"\\ubc1c\\ud45c\\ud6c4\",\"orientation\":\"v\",\"showlegend\":true,\"textposition\":\"auto\",\"x\":[\"\\uac10\\uc815\\ub3d9\",\"\\uac78\\ud3ec\\ub3d9\",\"\\uace0\\ucd0c\\uc74d\",\"\\uad6c\\ub798\\ub3d9\",\"\\ub300\\uacf6\\uba74\",\"\\ub9c8\\uc0b0\\ub3d9\",\"\\ubd81\\ubcc0\\ub3d9\",\"\\uc0ac\\uc6b0\\ub3d9\",\"\\uc591\\ucd0c\\uc74d\",\"\\uc6b4\\uc591\\ub3d9\",\"\\uc6d4\\uacf6\\uba74\",\"\\uc7a5\\uae30\\ub3d9\",\"\\ud1b5\\uc9c4\\uc74d\",\"\\ud48d\\ubb34\\ub3d9\",\"\\ud558\\uc131\\uba74\"],\"xaxis\":\"x\",\"y\":[88,59,150,176,21,98,55,70,81,188,15,272,106,245,13],\"yaxis\":\"y\",\"type\":\"bar\"}],                        {\"template\":{\"data\":{\"barpolar\":[{\"marker\":{\"line\":{\"color\":\"rgb(17,17,17)\",\"width\":0.5},\"pattern\":{\"fillmode\":\"overlay\",\"size\":10,\"solidity\":0.2}},\"type\":\"barpolar\"}],\"bar\":[{\"error_x\":{\"color\":\"#f2f5fa\"},\"error_y\":{\"color\":\"#f2f5fa\"},\"marker\":{\"line\":{\"color\":\"rgb(17,17,17)\",\"width\":0.5},\"pattern\":{\"fillmode\":\"overlay\",\"size\":10,\"solidity\":0.2}},\"type\":\"bar\"}],\"carpet\":[{\"aaxis\":{\"endlinecolor\":\"#A2B1C6\",\"gridcolor\":\"#506784\",\"linecolor\":\"#506784\",\"minorgridcolor\":\"#506784\",\"startlinecolor\":\"#A2B1C6\"},\"baxis\":{\"endlinecolor\":\"#A2B1C6\",\"gridcolor\":\"#506784\",\"linecolor\":\"#506784\",\"minorgridcolor\":\"#506784\",\"startlinecolor\":\"#A2B1C6\"},\"type\":\"carpet\"}],\"choropleth\":[{\"colorbar\":{\"outlinewidth\":0,\"ticks\":\"\"},\"type\":\"choropleth\"}],\"contourcarpet\":[{\"colorbar\":{\"outlinewidth\":0,\"ticks\":\"\"},\"type\":\"contourcarpet\"}],\"contour\":[{\"colorbar\":{\"outlinewidth\":0,\"ticks\":\"\"},\"colorscale\":[[0.0,\"#0d0887\"],[0.1111111111111111,\"#46039f\"],[0.2222222222222222,\"#7201a8\"],[0.3333333333333333,\"#9c179e\"],[0.4444444444444444,\"#bd3786\"],[0.5555555555555556,\"#d8576b\"],[0.6666666666666666,\"#ed7953\"],[0.7777777777777778,\"#fb9f3a\"],[0.8888888888888888,\"#fdca26\"],[1.0,\"#f0f921\"]],\"type\":\"contour\"}],\"heatmapgl\":[{\"colorbar\":{\"outlinewidth\":0,\"ticks\":\"\"},\"colorscale\":[[0.0,\"#0d0887\"],[0.1111111111111111,\"#46039f\"],[0.2222222222222222,\"#7201a8\"],[0.3333333333333333,\"#9c179e\"],[0.4444444444444444,\"#bd3786\"],[0.5555555555555556,\"#d8576b\"],[0.6666666666666666,\"#ed7953\"],[0.7777777777777778,\"#fb9f3a\"],[0.8888888888888888,\"#fdca26\"],[1.0,\"#f0f921\"]],\"type\":\"heatmapgl\"}],\"heatmap\":[{\"colorbar\":{\"outlinewidth\":0,\"ticks\":\"\"},\"colorscale\":[[0.0,\"#0d0887\"],[0.1111111111111111,\"#46039f\"],[0.2222222222222222,\"#7201a8\"],[0.3333333333333333,\"#9c179e\"],[0.4444444444444444,\"#bd3786\"],[0.5555555555555556,\"#d8576b\"],[0.6666666666666666,\"#ed7953\"],[0.7777777777777778,\"#fb9f3a\"],[0.8888888888888888,\"#fdca26\"],[1.0,\"#f0f921\"]],\"type\":\"heatmap\"}],\"histogram2dcontour\":[{\"colorbar\":{\"outlinewidth\":0,\"ticks\":\"\"},\"colorscale\":[[0.0,\"#0d0887\"],[0.1111111111111111,\"#46039f\"],[0.2222222222222222,\"#7201a8\"],[0.3333333333333333,\"#9c179e\"],[0.4444444444444444,\"#bd3786\"],[0.5555555555555556,\"#d8576b\"],[0.6666666666666666,\"#ed7953\"],[0.7777777777777778,\"#fb9f3a\"],[0.8888888888888888,\"#fdca26\"],[1.0,\"#f0f921\"]],\"type\":\"histogram2dcontour\"}],\"histogram2d\":[{\"colorbar\":{\"outlinewidth\":0,\"ticks\":\"\"},\"colorscale\":[[0.0,\"#0d0887\"],[0.1111111111111111,\"#46039f\"],[0.2222222222222222,\"#7201a8\"],[0.3333333333333333,\"#9c179e\"],[0.4444444444444444,\"#bd3786\"],[0.5555555555555556,\"#d8576b\"],[0.6666666666666666,\"#ed7953\"],[0.7777777777777778,\"#fb9f3a\"],[0.8888888888888888,\"#fdca26\"],[1.0,\"#f0f921\"]],\"type\":\"histogram2d\"}],\"histogram\":[{\"marker\":{\"pattern\":{\"fillmode\":\"overlay\",\"size\":10,\"solidity\":0.2}},\"type\":\"histogram\"}],\"mesh3d\":[{\"colorbar\":{\"outlinewidth\":0,\"ticks\":\"\"},\"type\":\"mesh3d\"}],\"parcoords\":[{\"line\":{\"colorbar\":{\"outlinewidth\":0,\"ticks\":\"\"}},\"type\":\"parcoords\"}],\"pie\":[{\"automargin\":true,\"type\":\"pie\"}],\"scatter3d\":[{\"line\":{\"colorbar\":{\"outlinewidth\":0,\"ticks\":\"\"}},\"marker\":{\"colorbar\":{\"outlinewidth\":0,\"ticks\":\"\"}},\"type\":\"scatter3d\"}],\"scattercarpet\":[{\"marker\":{\"colorbar\":{\"outlinewidth\":0,\"ticks\":\"\"}},\"type\":\"scattercarpet\"}],\"scattergeo\":[{\"marker\":{\"colorbar\":{\"outlinewidth\":0,\"ticks\":\"\"}},\"type\":\"scattergeo\"}],\"scattergl\":[{\"marker\":{\"line\":{\"color\":\"#283442\"}},\"type\":\"scattergl\"}],\"scattermapbox\":[{\"marker\":{\"colorbar\":{\"outlinewidth\":0,\"ticks\":\"\"}},\"type\":\"scattermapbox\"}],\"scatterpolargl\":[{\"marker\":{\"colorbar\":{\"outlinewidth\":0,\"ticks\":\"\"}},\"type\":\"scatterpolargl\"}],\"scatterpolar\":[{\"marker\":{\"colorbar\":{\"outlinewidth\":0,\"ticks\":\"\"}},\"type\":\"scatterpolar\"}],\"scatter\":[{\"marker\":{\"line\":{\"color\":\"#283442\"}},\"type\":\"scatter\"}],\"scatterternary\":[{\"marker\":{\"colorbar\":{\"outlinewidth\":0,\"ticks\":\"\"}},\"type\":\"scatterternary\"}],\"surface\":[{\"colorbar\":{\"outlinewidth\":0,\"ticks\":\"\"},\"colorscale\":[[0.0,\"#0d0887\"],[0.1111111111111111,\"#46039f\"],[0.2222222222222222,\"#7201a8\"],[0.3333333333333333,\"#9c179e\"],[0.4444444444444444,\"#bd3786\"],[0.5555555555555556,\"#d8576b\"],[0.6666666666666666,\"#ed7953\"],[0.7777777777777778,\"#fb9f3a\"],[0.8888888888888888,\"#fdca26\"],[1.0,\"#f0f921\"]],\"type\":\"surface\"}],\"table\":[{\"cells\":{\"fill\":{\"color\":\"#506784\"},\"line\":{\"color\":\"rgb(17,17,17)\"}},\"header\":{\"fill\":{\"color\":\"#2a3f5f\"},\"line\":{\"color\":\"rgb(17,17,17)\"}},\"type\":\"table\"}]},\"layout\":{\"annotationdefaults\":{\"arrowcolor\":\"#f2f5fa\",\"arrowhead\":0,\"arrowwidth\":1},\"autotypenumbers\":\"strict\",\"coloraxis\":{\"colorbar\":{\"outlinewidth\":0,\"ticks\":\"\"}},\"colorscale\":{\"diverging\":[[0,\"#8e0152\"],[0.1,\"#c51b7d\"],[0.2,\"#de77ae\"],[0.3,\"#f1b6da\"],[0.4,\"#fde0ef\"],[0.5,\"#f7f7f7\"],[0.6,\"#e6f5d0\"],[0.7,\"#b8e186\"],[0.8,\"#7fbc41\"],[0.9,\"#4d9221\"],[1,\"#276419\"]],\"sequential\":[[0.0,\"#0d0887\"],[0.1111111111111111,\"#46039f\"],[0.2222222222222222,\"#7201a8\"],[0.3333333333333333,\"#9c179e\"],[0.4444444444444444,\"#bd3786\"],[0.5555555555555556,\"#d8576b\"],[0.6666666666666666,\"#ed7953\"],[0.7777777777777778,\"#fb9f3a\"],[0.8888888888888888,\"#fdca26\"],[1.0,\"#f0f921\"]],\"sequentialminus\":[[0.0,\"#0d0887\"],[0.1111111111111111,\"#46039f\"],[0.2222222222222222,\"#7201a8\"],[0.3333333333333333,\"#9c179e\"],[0.4444444444444444,\"#bd3786\"],[0.5555555555555556,\"#d8576b\"],[0.6666666666666666,\"#ed7953\"],[0.7777777777777778,\"#fb9f3a\"],[0.8888888888888888,\"#fdca26\"],[1.0,\"#f0f921\"]]},\"colorway\":[\"#636efa\",\"#EF553B\",\"#00cc96\",\"#ab63fa\",\"#FFA15A\",\"#19d3f3\",\"#FF6692\",\"#B6E880\",\"#FF97FF\",\"#FECB52\"],\"font\":{\"color\":\"#f2f5fa\"},\"geo\":{\"bgcolor\":\"rgb(17,17,17)\",\"lakecolor\":\"rgb(17,17,17)\",\"landcolor\":\"rgb(17,17,17)\",\"showlakes\":true,\"showland\":true,\"subunitcolor\":\"#506784\"},\"hoverlabel\":{\"align\":\"left\"},\"hovermode\":\"closest\",\"mapbox\":{\"style\":\"dark\"},\"paper_bgcolor\":\"rgb(17,17,17)\",\"plot_bgcolor\":\"rgb(17,17,17)\",\"polar\":{\"angularaxis\":{\"gridcolor\":\"#506784\",\"linecolor\":\"#506784\",\"ticks\":\"\"},\"bgcolor\":\"rgb(17,17,17)\",\"radialaxis\":{\"gridcolor\":\"#506784\",\"linecolor\":\"#506784\",\"ticks\":\"\"}},\"scene\":{\"xaxis\":{\"backgroundcolor\":\"rgb(17,17,17)\",\"gridcolor\":\"#506784\",\"gridwidth\":2,\"linecolor\":\"#506784\",\"showbackground\":true,\"ticks\":\"\",\"zerolinecolor\":\"#C8D4E3\"},\"yaxis\":{\"backgroundcolor\":\"rgb(17,17,17)\",\"gridcolor\":\"#506784\",\"gridwidth\":2,\"linecolor\":\"#506784\",\"showbackground\":true,\"ticks\":\"\",\"zerolinecolor\":\"#C8D4E3\"},\"zaxis\":{\"backgroundcolor\":\"rgb(17,17,17)\",\"gridcolor\":\"#506784\",\"gridwidth\":2,\"linecolor\":\"#506784\",\"showbackground\":true,\"ticks\":\"\",\"zerolinecolor\":\"#C8D4E3\"}},\"shapedefaults\":{\"line\":{\"color\":\"#f2f5fa\"}},\"sliderdefaults\":{\"bgcolor\":\"#C8D4E3\",\"bordercolor\":\"rgb(17,17,17)\",\"borderwidth\":1,\"tickwidth\":0},\"ternary\":{\"aaxis\":{\"gridcolor\":\"#506784\",\"linecolor\":\"#506784\",\"ticks\":\"\"},\"baxis\":{\"gridcolor\":\"#506784\",\"linecolor\":\"#506784\",\"ticks\":\"\"},\"bgcolor\":\"rgb(17,17,17)\",\"caxis\":{\"gridcolor\":\"#506784\",\"linecolor\":\"#506784\",\"ticks\":\"\"}},\"title\":{\"x\":0.05},\"updatemenudefaults\":{\"bgcolor\":\"#506784\",\"borderwidth\":0},\"xaxis\":{\"automargin\":true,\"gridcolor\":\"#283442\",\"linecolor\":\"#506784\",\"ticks\":\"\",\"title\":{\"standoff\":15},\"zerolinecolor\":\"#283442\",\"zerolinewidth\":2},\"yaxis\":{\"automargin\":true,\"gridcolor\":\"#283442\",\"linecolor\":\"#506784\",\"ticks\":\"\",\"title\":{\"standoff\":15},\"zerolinecolor\":\"#283442\",\"zerolinewidth\":2}}},\"xaxis\":{\"anchor\":\"y\",\"domain\":[0.0,1.0],\"title\":{\"text\":\"\\uc2dc\\uad70\\uad6c\"}},\"yaxis\":{\"anchor\":\"x\",\"domain\":[0.0,1.0],\"title\":{\"text\":\"\\uac70\\ub798\\ub7c9(\\uac74)\"}},\"legend\":{\"title\":{\"text\":\"\\ubc1c\\ud45c\"},\"tracegroupgap\":0},\"title\":{\"text\":\"\\ubc1c\\ud45c \\uc804 \\ud6c4 \\uae40\\ud3ec \\ucd1d\\uac70\\ub798 \\ube44\\uad50\"},\"barmode\":\"group\",\"height\":500,\"width\":900,\"annotations\":[{\"arrowcolor\":\"red\",\"arrowhead\":4,\"ax\":0,\"ay\":-40,\"showarrow\":true,\"text\":\"11.39%\",\"x\":\"\\uac10\\uc815\\ub3d9\",\"y\":88},{\"arrowcolor\":\"red\",\"arrowhead\":4,\"ax\":0,\"ay\":-40,\"showarrow\":true,\"text\":\"-16.90%\",\"x\":\"\\uac78\\ud3ec\\ub3d9\",\"y\":71},{\"arrowcolor\":\"red\",\"arrowhead\":4,\"ax\":0,\"ay\":-40,\"showarrow\":true,\"text\":\"-28.23%\",\"x\":\"\\uace0\\ucd0c\\uc74d\",\"y\":209},{\"arrowcolor\":\"red\",\"arrowhead\":4,\"ax\":0,\"ay\":-40,\"showarrow\":true,\"text\":\"-10.66%\",\"x\":\"\\uad6c\\ub798\\ub3d9\",\"y\":197},{\"arrowcolor\":\"red\",\"arrowhead\":4,\"ax\":0,\"ay\":-40,\"showarrow\":true,\"text\":\"23.53%\",\"x\":\"\\ub300\\uacf6\\uba74\",\"y\":21},{\"arrowcolor\":\"red\",\"arrowhead\":4,\"ax\":0,\"ay\":-40,\"showarrow\":true,\"text\":\"-13.27%\",\"x\":\"\\ub9c8\\uc0b0\\ub3d9\",\"y\":113},{\"arrowcolor\":\"red\",\"arrowhead\":4,\"ax\":0,\"ay\":-40,\"showarrow\":true,\"text\":\"-15.38%\",\"x\":\"\\ubd81\\ubcc0\\ub3d9\",\"y\":65},{\"arrowcolor\":\"red\",\"arrowhead\":4,\"ax\":0,\"ay\":-40,\"showarrow\":true,\"text\":\"-2.78%\",\"x\":\"\\uc0ac\\uc6b0\\ub3d9\",\"y\":72},{\"arrowcolor\":\"red\",\"arrowhead\":4,\"ax\":0,\"ay\":-40,\"showarrow\":true,\"text\":\"-1.22%\",\"x\":\"\\uc591\\ucd0c\\uc74d\",\"y\":82},{\"arrowcolor\":\"red\",\"arrowhead\":4,\"ax\":0,\"ay\":-40,\"showarrow\":true,\"text\":\"-22.63%\",\"x\":\"\\uc6b4\\uc591\\ub3d9\",\"y\":243},{\"arrowcolor\":\"red\",\"arrowhead\":4,\"ax\":0,\"ay\":-40,\"showarrow\":true,\"text\":\"-21.05%\",\"x\":\"\\uc6d4\\uacf6\\uba74\",\"y\":19},{\"arrowcolor\":\"red\",\"arrowhead\":4,\"ax\":0,\"ay\":-40,\"showarrow\":true,\"text\":\"-18.81%\",\"x\":\"\\uc7a5\\uae30\\ub3d9\",\"y\":335},{\"arrowcolor\":\"red\",\"arrowhead\":4,\"ax\":0,\"ay\":-40,\"showarrow\":true,\"text\":\"-27.89%\",\"x\":\"\\ud1b5\\uc9c4\\uc74d\",\"y\":147},{\"arrowcolor\":\"red\",\"arrowhead\":4,\"ax\":0,\"ay\":-40,\"showarrow\":true,\"text\":\"-19.93%\",\"x\":\"\\ud48d\\ubb34\\ub3d9\",\"y\":306},{\"arrowcolor\":\"red\",\"arrowhead\":4,\"ax\":0,\"ay\":-40,\"showarrow\":true,\"text\":\"-45.83%\",\"x\":\"\\ud558\\uc131\\uba74\",\"y\":24}]},                        {\"responsive\": true}                    ).then(function(){\n",
       "                            \n",
       "var gd = document.getElementById('f91aab00-687b-4378-b50a-423109712933');\n",
       "var x = new MutationObserver(function (mutations, observer) {{\n",
       "        var display = window.getComputedStyle(gd).display;\n",
       "        if (!display || display === 'none') {{\n",
       "            console.log([gd, 'removed!']);\n",
       "            Plotly.purge(gd);\n",
       "            observer.disconnect();\n",
       "        }}\n",
       "}});\n",
       "\n",
       "// Listen for the removal of the full notebook cells\n",
       "var notebookContainer = gd.closest('#notebook-container');\n",
       "if (notebookContainer) {{\n",
       "    x.observe(notebookContainer, {childList: true});\n",
       "}}\n",
       "\n",
       "// Listen for the clearing of the current output cell\n",
       "var outputEl = gd.closest('.output');\n",
       "if (outputEl) {{\n",
       "    x.observe(outputEl, {childList: true});\n",
       "}}\n",
       "\n",
       "                        })                };                });            </script>        </div>"
      ]
     },
     "metadata": {},
     "output_type": "display_data"
    }
   ],
   "source": [
    "df_김포=pd.read_csv(\"data/df_김포.csv\")\n",
    "\n",
    "df_김포_발표전=df_김포.loc[df_김포['발표']=='발표전', :]\n",
    "df_김포_발표후=df_김포.loc[df_김포['발표']=='발표후', :]\n",
    "\n",
    "김포_before_avg=df_김포_발표전.groupby('시군구')['거래금액(만원)'].count().reset_index()\n",
    "김포_after_avg=df_김포_발표후.groupby('시군구')['거래금액(만원)'].count().reset_index()\n",
    "\n",
    "병합데이터=pd.concat([김포_before_avg.assign(발표='발표전'),김포_after_avg.assign(발표='발표후')])\n",
    "\n",
    "\n",
    "fig = px.bar(병합데이터,\n",
    "            x='시군구',\n",
    "            y='거래금액(만원)',\n",
    "            color='발표',\n",
    "            barmode='group',\n",
    "            title='발표 전 후 김포 총거래 비교',\n",
    "            labels={'시군구': '시군구', '거래금액(만원)': '거래량(건)'},\n",
    "            template='plotly_dark',  # Dark mode template\n",
    "            width=900,  # Width of the plot\n",
    "            height=500,)\n",
    "\n",
    "for sgg in 김포병합['시군구'].unique():\n",
    "    before_count = 김포B[김포B['시군구'] == sgg]['거래금액(만원)'].values[0]\n",
    "    after_count = 김포A[김포A['시군구'] == sgg]['거래금액(만원)'].values[0]\n",
    "    percent_increase = ((after_count - before_count) / before_count) * 100\n",
    "    fig.add_annotation(\n",
    "        x=sgg,\n",
    "        y=max(before_count, after_count),\n",
    "        text=f'{percent_increase:.2f}%',\n",
    "        showarrow=True,\n",
    "        arrowcolor='red',\n",
    "        arrowhead=4,\n",
    "        ax=0,\n",
    "        ay=-40\n",
    "    )\n",
    "\n",
    "fig.show()"
   ]
  },
  {
   "cell_type": "code",
   "execution_count": null,
   "id": "dedd2f0e-ef27-4d9f-82e9-1f74924cf5eb",
   "metadata": {},
   "outputs": [],
   "source": []
  },
  {
   "cell_type": "code",
   "execution_count": null,
   "id": "f7086b65-4b70-4daf-8e90-02084eb20887",
   "metadata": {},
   "outputs": [],
   "source": []
  }
 ],
 "metadata": {
  "kernelspec": {
   "display_name": "Python 3 (ipykernel)",
   "language": "python",
   "name": "python3"
  },
  "language_info": {
   "codemirror_mode": {
    "name": "ipython",
    "version": 3
   },
   "file_extension": ".py",
   "mimetype": "text/x-python",
   "name": "python",
   "nbconvert_exporter": "python",
   "pygments_lexer": "ipython3",
   "version": "3.11.5"
  }
 },
 "nbformat": 4,
 "nbformat_minor": 5
}
